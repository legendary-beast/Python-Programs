{
  "cells": [
    {
      "cell_type": "markdown",
      "metadata": {
        "id": "view-in-github",
        "colab_type": "text"
      },
      "source": [
        "<a href=\"https://colab.research.google.com/github/legendary-beast/Python-Programs/blob/main/File_handling_3.ipynb\" target=\"_parent\"><img src=\"https://colab.research.google.com/assets/colab-badge.svg\" alt=\"Open In Colab\"/></a>"
      ]
    },
    {
      "cell_type": "code",
      "execution_count": null,
      "id": "efdb3e1b-49e9-41cf-ab5e-52ca07c74149",
      "metadata": {
        "id": "efdb3e1b-49e9-41cf-ab5e-52ca07c74149"
      },
      "outputs": [],
      "source": [
        "import re"
      ]
    },
    {
      "cell_type": "code",
      "execution_count": null,
      "id": "ff245b6e-c4e4-43bf-8812-76c83ee07023",
      "metadata": {
        "id": "ff245b6e-c4e4-43bf-8812-76c83ee07023",
        "outputId": "f2e1d4a1-4a5b-48ca-8861-42ab3c194813"
      },
      "outputs": [
        {
          "data": {
            "text/plain": [
              "'C:\\\\Users\\\\HP\\\\Downloads'"
            ]
          },
          "execution_count": 5,
          "metadata": {},
          "output_type": "execute_result"
        }
      ],
      "source": [
        "import os\n",
        "os.getcwd()"
      ]
    },
    {
      "cell_type": "code",
      "execution_count": null,
      "id": "834a7389-931f-4f78-b392-8e59650dd493",
      "metadata": {
        "id": "834a7389-931f-4f78-b392-8e59650dd493",
        "outputId": "b37e8603-7685-4663-a3ec-b0d1b625361f"
      },
      "outputs": [
        {
          "data": {
            "text/plain": [
              "'Hima Das,2000-1-9,2-34,3:21,2.34,2.45,3.01,2:01,2:01,3:10,2-22,2-01,2.01,2:16\\n'"
            ]
          },
          "execution_count": 6,
          "metadata": {},
          "output_type": "execute_result"
        }
      ],
      "source": [
        "f = open('hima.txt')\n",
        "text = f.read()\n",
        "text"
      ]
    },
    {
      "cell_type": "code",
      "execution_count": null,
      "id": "40e06683-4f13-4aa4-94e4-8d861a808756",
      "metadata": {
        "id": "40e06683-4f13-4aa4-94e4-8d861a808756"
      },
      "outputs": [],
      "source": [
        "def sanitize(time_string):\n",
        "    pattern = r'[-:]'\n",
        "    return re.sub(pattern,'.',time_string)"
      ]
    },
    {
      "cell_type": "code",
      "execution_count": null,
      "id": "4b7f847c-c67d-4e1a-b0a7-f95db61c7879",
      "metadata": {
        "id": "4b7f847c-c67d-4e1a-b0a7-f95db61c7879"
      },
      "outputs": [],
      "source": [
        "def top3(time_string):\n",
        "    times =  list(set(time_string))\n",
        "    time = [float(i) for i in times]\n",
        "    times.sort()\n",
        "    return times[:3]"
      ]
    },
    {
      "cell_type": "code",
      "execution_count": null,
      "id": "f2092a40-5edd-4698-a10e-cab915139e75",
      "metadata": {
        "id": "f2092a40-5edd-4698-a10e-cab915139e75"
      },
      "outputs": [],
      "source": [
        "def get_athelete_data(filenames):\n",
        "    data = []\n",
        "    try:\n",
        "        with open(filenames, 'r') as file :\n",
        "            lines = file.readlines()\n",
        "            for line in lines:\n",
        "                f = line.strip().split(',')\n",
        "                name,dob,*times = f\n",
        "                times = [sanitize(i) for i in times]\n",
        "                data.append({'Name': name,'DOB':dob,'List_of_time':top3(times)})\n",
        "    except IOError:\n",
        "        print(\"Error file not Found.\")\n",
        "    return data"
      ]
    },
    {
      "cell_type": "code",
      "execution_count": null,
      "id": "163c7ebb-5eaa-48ff-94af-df4e9d60bc2f",
      "metadata": {
        "id": "163c7ebb-5eaa-48ff-94af-df4e9d60bc2f",
        "outputId": "17c01bb9-6437-4d95-d61c-cf054dc8f55a"
      },
      "outputs": [
        {
          "name": "stdout",
          "output_type": "stream",
          "text": [
            "[{'Name': 'Dutee Chand', 'DOB': '1996-2-3', 'List_of_time': ['2.11', '2.23', '2.59']}]\n",
            "[{'Name': 'Hima Das', 'DOB': '2000-1-9', 'List_of_time': ['2.01', '2.16', '2.22']}]\n",
            "[{'Name': 'PT Usha', 'DOB': '1964-6-27', 'List_of_time': ['2.18', '2.21', '2.22']}]\n",
            "[{'Name': 'Sekar Dhanalakshmi', 'DOB': '1998-1-5', 'List_of_time': ['2.22', '2.31', '2.38']}]\n"
          ]
        }
      ],
      "source": [
        "filenames = ['C:\\\\Users\\\\HP\\\\Downloads\\\\dutee.txt', 'C:\\\\Users\\\\HP\\\\Downloads\\\\hima.txt', 'C:\\\\Users\\\\HP\\\\Downloads\\\\ptusha.txt','C:\\\\Users\\\\HP\\\\Downloads\\\\sekar.txt']\n",
        "for i in filenames:\n",
        "    get_athelete_data(i)\n",
        "    print(get_athelete_data(i))"
      ]
    },
    {
      "cell_type": "code",
      "execution_count": null,
      "id": "32aa889a-5837-489e-b9d5-2344d47aaaef",
      "metadata": {
        "id": "32aa889a-5837-489e-b9d5-2344d47aaaef",
        "outputId": "c5ea98d8-5bc3-456b-933d-c7a1fad04f3f"
      },
      "outputs": [
        {
          "name": "stdout",
          "output_type": "stream",
          "text": [
            "[{'Name': 'Dutee Chand', 'DOB': '1996-2-3', 'List_of_time': [2.11, 2.23, 2.59]}]\n",
            "[{'Name': 'Hima Das', 'DOB': '2000-1-9', 'List_of_time': [2.01, 2.16, 2.22]}]\n",
            "[{'Name': 'PT Usha', 'DOB': '1964-6-27', 'List_of_time': [2.18, 2.21, 2.22]}]\n",
            "[{'Name': 'Sekar Dhanalakshmi', 'DOB': '1998-1-5', 'List_of_time': [2.22, 2.31, 2.38]}]\n"
          ]
        }
      ],
      "source": [
        "import re\n",
        "\n",
        "f=open('C:\\\\Users\\\\HP\\\\Downloads\\\\hima.txt')\n",
        "text=f.read()\n",
        "text\n",
        "\n",
        "def sanitize(time_string):\n",
        "    pattern = r'[-:]'\n",
        "    return re.sub(pattern, '.', time_string)\n",
        "\n",
        "def top3(time_string):\n",
        "\n",
        "    times = list(set(time_string))\n",
        "    times = [float(i) for i in times]\n",
        "    times.sort()\n",
        "    return times[:3]\n",
        "\n",
        "def get_athelete_data(filenames):\n",
        "\n",
        "  data = []\n",
        "  try:\n",
        "      with open(filenames, 'r') as file:\n",
        "          lines = file.readlines()\n",
        "          for line in lines:\n",
        "              f = line.strip().split(',')\n",
        "              name, dob, *times = f\n",
        "              times = [sanitize(i) for i in times]\n",
        "              data.append({'Name': name, 'DOB': dob, 'List_of_time': top3(times)})\n",
        "  except IOError:\n",
        "      print(\"Error filenot found.\")\n",
        "  return data\n",
        "\n",
        "filenames = ['C:\\\\Users\\\\HP\\\\Downloads\\\\dutee.txt', 'C:\\\\Users\\\\HP\\\\Downloads\\\\hima.txt', 'C:\\\\Users\\\\HP\\\\Downloads\\\\ptusha.txt','C:\\\\Users\\\\HP\\\\Downloads\\\\sekar.txt']\n",
        "for i in filenames:\n",
        "  get_athelete_data(i)\n",
        "\n",
        "  print(get_athelete_data(i))"
      ]
    }
  ],
  "metadata": {
    "kernelspec": {
      "display_name": "Python 3 (ipykernel)",
      "language": "python",
      "name": "python3"
    },
    "language_info": {
      "codemirror_mode": {
        "name": "ipython",
        "version": 3
      },
      "file_extension": ".py",
      "mimetype": "text/x-python",
      "name": "python",
      "nbconvert_exporter": "python",
      "pygments_lexer": "ipython3",
      "version": "3.11.7"
    },
    "colab": {
      "provenance": [],
      "include_colab_link": true
    }
  },
  "nbformat": 4,
  "nbformat_minor": 5
}