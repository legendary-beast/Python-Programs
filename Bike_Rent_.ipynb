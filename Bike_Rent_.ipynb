{
  "cells": [
    {
      "cell_type": "markdown",
      "metadata": {
        "id": "view-in-github",
        "colab_type": "text"
      },
      "source": [
        "<a href=\"https://colab.research.google.com/github/legendary-beast/Python-Programs/blob/main/Bike_Rent_.ipynb\" target=\"_parent\"><img src=\"https://colab.research.google.com/assets/colab-badge.svg\" alt=\"Open In Colab\"/></a>"
      ]
    },
    {
      "cell_type": "code",
      "execution_count": 107,
      "id": "b8753564",
      "metadata": {
        "id": "b8753564"
      },
      "outputs": [],
      "source": [
        "class BikeRental:\n",
        "  stock = 100\n",
        "  def __init__(self):\n",
        "    print(\"Welcome to Bike Rental Shop. \")\n",
        "\n",
        "  def displaystock(self):\n",
        "    print(\"Total Stock is :\" , self.stock)\n",
        "\n",
        "\n",
        "class Customer(BikeRental):\n",
        "  bill = 0\n",
        "  def __init__(self,number_of_bikes,rentalBasis,number_of_days_or_weeks):\n",
        "\n",
        "    self.number_of_bikes = number_of_bikes\n",
        "    self.rentalBasis = rentalBasis\n",
        "    self.number_of_days_or_weeks = number_of_days_or_weeks\n",
        "\n",
        "\n",
        "  def rentBike(self):\n",
        "    if(self.number_of_bikes <= 0 ):\n",
        "      print(\"Number of bikes should be positive!\")\n",
        "\n",
        "    if(self.number_of_bikes > self.stock):\n",
        "      print(\"We are sorry, there are only\",self.stock,\":Bikes available for rent\")\n",
        "\n",
        "    else:\n",
        "      print(\"There are \",self.number_of_bikes,\" Bikes rented by customer\")\n",
        "      self.stock -= self.number_of_bikes\n",
        "      print(\"Total stock :\",self.stock)\n",
        "\n",
        "  def returnBike(self):\n",
        "    if(self.rentalBasis == \"daily\") :\n",
        "      if(self.number_of_bikes >=3 and self.number_of_bikes <=5):\n",
        "        self.bill = (self.number_of_bikes * 100) * 0.7\n",
        "        self.stock += self.number_of_bikes\n",
        "        print(\"30% Family Discount Applicable !\")\n",
        "\n",
        "      else:\n",
        "        self.bill = self.number_of_bikes * 100\n",
        "        self.stock += self.number_of_bikes\n",
        "      print(self.number_of_bikes,\"bikes returned \\n Total Bill:\",self.bill)\n",
        "\n",
        "    if(self.rentalBasis == \"weekly\") :\n",
        "      if(self.number_of_bikes >=3 and self.number_of_bikes <=5):\n",
        "        self.bill = (self.number_of_bikes * 500) * 0.7\n",
        "        self.stock += self.number_of_bikes\n",
        "        print(\"30% Family Discount Applicable !\")\n",
        "      else:\n",
        "        self.bill = self.number_of_bikes * 500\n",
        "        self.stock += self.number_of_bikes\n",
        "      print(self.number_of_bikes,\"bikes returned \\n Total Bill:\",self.bill)\n",
        "\n",
        "\n"
      ]
    },
    {
      "cell_type": "markdown",
      "id": "dea7483f",
      "metadata": {
        "id": "dea7483f"
      },
      "source": [
        "## Step 4\n",
        "\n",
        "Check your `Bike Rental System` for test-case objects given below :\n",
        "\n",
        "For first four customers - check all the three attribute values and call `rentBike` and `returnBike` methods.\n",
        "\n",
        "- customer_1 = Customer(2,'day',5)\n",
        "\n",
        "- customer_2 = Customer(1,'week',3)\n",
        "\n",
        "- customer_3 = Customer(4,'day',3)  - Is family discount applicable here ?\n",
        "\n",
        "- customer_4 = Customer(3,'week',3) - Is family discount applicable here ?\n",
        "\n",
        "Call `rentBike` and `displaystock` methods for test-case objects given below :\n",
        "\n",
        "- customer_5 = Customer(120,'week',3)\n",
        "\n",
        "- customer_6 = Customer(0,'week',3)\n",
        "\n",
        "- customer_7 = Customer(-5,'week',3)\n",
        "\n",
        "- customer_8 = Customer(1,'day',3)"
      ]
    },
    {
      "cell_type": "code",
      "execution_count": 101,
      "id": "40d0a7aa",
      "metadata": {
        "id": "40d0a7aa"
      },
      "outputs": [],
      "source": [
        "## your code goes here ##\n",
        "customer1 = Customer(120,'week',3)"
      ]
    },
    {
      "cell_type": "code",
      "source": [
        "customer1.rentBike()"
      ],
      "metadata": {
        "colab": {
          "base_uri": "https://localhost:8080/"
        },
        "id": "nvBuQ_qLBlWY",
        "outputId": "a1667075-46a4-46c9-8e2c-c408ba81a35f"
      },
      "id": "nvBuQ_qLBlWY",
      "execution_count": 102,
      "outputs": [
        {
          "output_type": "stream",
          "name": "stdout",
          "text": [
            "We are sorry, there are only 100 :Bikes available for rent\n"
          ]
        }
      ]
    },
    {
      "cell_type": "code",
      "source": [
        "customer1 = Customer(0,'week',3)"
      ],
      "metadata": {
        "id": "3sfmoCg8Cf1L"
      },
      "id": "3sfmoCg8Cf1L",
      "execution_count": 105,
      "outputs": []
    },
    {
      "cell_type": "code",
      "source": [
        "customer1.rentBike()"
      ],
      "metadata": {
        "colab": {
          "base_uri": "https://localhost:8080/"
        },
        "id": "SLcl1XuJCmK4",
        "outputId": "36e2f640-6ee8-4c1e-befc-370c08c75aa5"
      },
      "id": "SLcl1XuJCmK4",
      "execution_count": 106,
      "outputs": [
        {
          "output_type": "stream",
          "name": "stdout",
          "text": [
            "Number of bikes should be positive!\n",
            "There are  0  Bikes rented by customer\n",
            "Total stock : 100\n"
          ]
        }
      ]
    }
  ],
  "metadata": {
    "kernelspec": {
      "display_name": "Python 3 (ipykernel)",
      "language": "python",
      "name": "python3"
    },
    "language_info": {
      "codemirror_mode": {
        "name": "ipython",
        "version": 3
      },
      "file_extension": ".py",
      "mimetype": "text/x-python",
      "name": "python",
      "nbconvert_exporter": "python",
      "pygments_lexer": "ipython3",
      "version": "3.11.7"
    },
    "colab": {
      "provenance": [],
      "include_colab_link": true
    }
  },
  "nbformat": 4,
  "nbformat_minor": 5
}