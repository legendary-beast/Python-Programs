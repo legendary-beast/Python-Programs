{
  "nbformat": 4,
  "nbformat_minor": 0,
  "metadata": {
    "kernelspec": {
      "display_name": "Python 3",
      "language": "python",
      "name": "python3"
    },
    "language_info": {
      "codemirror_mode": {
        "name": "ipython",
        "version": 3
      },
      "file_extension": ".py",
      "mimetype": "text/x-python",
      "name": "python",
      "nbconvert_exporter": "python",
      "pygments_lexer": "ipython3",
      "version": "3.8.3"
    },
    "toc": {
      "base_numbering": 1,
      "nav_menu": {},
      "number_sections": true,
      "sideBar": true,
      "skip_h1_title": false,
      "title_cell": "Table of Contents",
      "title_sidebar": "Contents",
      "toc_cell": false,
      "toc_position": {},
      "toc_section_display": true,
      "toc_window_display": false
    },
    "colab": {
      "provenance": [],
      "collapsed_sections": [
        "-hIyuzsJQog3"
      ],
      "include_colab_link": true
    }
  },
  "cells": [
    {
      "cell_type": "markdown",
      "metadata": {
        "id": "view-in-github",
        "colab_type": "text"
      },
      "source": [
        "<a href=\"https://colab.research.google.com/github/legendary-beast/Python-Programs/blob/main/Missionary_Cannibals.ipynb\" target=\"_parent\"><img src=\"https://colab.research.google.com/assets/colab-badge.svg\" alt=\"Open In Colab\"/></a>"
      ]
    },
    {
      "cell_type": "code",
      "source": [
        "boat_side = 'right'\n",
        "missionaries_on_right = 3\n",
        "cannibals_on_right = 3\n",
        "missionaries_on_left = 0\n",
        "cannibals_on_left = 0\n",
        "\n",
        "#print(\"M =\",missionaries_on_left,\" C =\",cannibals_on_left,\"| ---------B |\",\"M =\",missionaries_on_right,\" C =\",cannibals_on_right)\n",
        "print(missionaries_on_left * \"\\U0001f482\",cannibals_on_left *'\\U0001f479','\\U0001f30a \\U0001f30a \\U0001f30a \\U0001f30a \\U0001f30a \\U0001f6A2',missionaries_on_right * \"\\U0001f482\",cannibals_on_right *'\\U0001f479')\n",
        "\n",
        "while True:\n",
        "  M = int(input(\"Missionaries : \"))\n",
        "  C = int(input(\"Cannibals : \"))\n",
        "\n",
        "  if(M + C > 2 or M + C < 0):\n",
        "    print(\"Invalid Input 1 !\")\n",
        "    continue\n",
        "\n",
        "  if(boat_side == 'right'):\n",
        "    if(M > missionaries_on_right or C > cannibals_on_right):\n",
        "      print(\"invalid move 2 !\")\n",
        "      continue\n",
        "\n",
        "    boat_side = 'left'\n",
        "    missionaries_on_left += M\n",
        "    cannibals_on_left += C\n",
        "    missionaries_on_right -= M\n",
        "    cannibals_on_right -= C\n",
        "    print(missionaries_on_left * \"\\U0001f482\",cannibals_on_left * '\\U0001f479','\\U0001f6A2 \\U0001f30a \\U0001f30a \\U0001f30a \\U0001f30a \\U0001f30a ',missionaries_on_right * \"\\U0001f482\",cannibals_on_right * '\\U0001f479')\n",
        "    #print(\"M = \", missionaries_on_left ,\"C =\", cannibals_on_left ,\"|B--------|\",\"M = \", missionaries_on_right ,\"C =\", cannibals_on_right ,\"\\n\")\n",
        "\n",
        "\n",
        "  else:\n",
        "    if(M > missionaries_on_left or C > cannibals_on_left):\n",
        "      print(\"invalid MOve 2 !\")\n",
        "      continue\n",
        "    boat_side = 'right'\n",
        "    missionaries_on_left -= M\n",
        "    cannibals_on_left -= C\n",
        "    missionaries_on_right += M\n",
        "    cannibals_on_right += C\n",
        "\n",
        "    print(missionaries_on_left * \"\\U0001f482\",cannibals_on_left * '\\U0001f479',' \\U0001f30a \\U0001f30a \\U0001f30a \\U0001f30a \\U0001f30a \\U0001f6A2',missionaries_on_right * \"\\U0001f482\",cannibals_on_right * '\\U0001f479')\n",
        "\n",
        "    #print(\"M = \", missionaries_on_left ,\"C =\", cannibals_on_left ,\"|--------B|\",\"M = \", missionaries_on_right ,\"C =\", cannibals_on_right ,\"\\n\")\n",
        "\n",
        "  if((cannibals_on_left > missionaries_on_left and missionaries_on_left > 0) or (cannibals_on_right > missionaries_on_right and missionaries_on_right > 0)):\n",
        "    print(\"You Loose ...\")\n",
        "    break\n",
        "  elif (missionaries_on_left == 3 and cannibals_on_left ==3):\n",
        "    print(\"You Win !\")\n",
        "    break\n"
      ],
      "metadata": {
        "id": "SmRBCjYnwcmk"
      },
      "execution_count": null,
      "outputs": []
    }
  ]
}