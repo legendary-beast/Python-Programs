{
  "nbformat": 4,
  "nbformat_minor": 0,
  "metadata": {
    "kernelspec": {
      "display_name": "Python 3",
      "language": "python",
      "name": "python3"
    },
    "language_info": {
      "codemirror_mode": {
        "name": "ipython",
        "version": 3
      },
      "file_extension": ".py",
      "mimetype": "text/x-python",
      "name": "python",
      "nbconvert_exporter": "python",
      "pygments_lexer": "ipython3",
      "version": "3.8.3"
    },
    "toc": {
      "base_numbering": 1,
      "nav_menu": {},
      "number_sections": true,
      "sideBar": true,
      "skip_h1_title": false,
      "title_cell": "Table of Contents",
      "title_sidebar": "Contents",
      "toc_cell": false,
      "toc_position": {},
      "toc_section_display": true,
      "toc_window_display": false
    },
    "colab": {
      "provenance": [],
      "collapsed_sections": [
        "-hIyuzsJQog3"
      ]
    }
  },
  "cells": [
    {
      "cell_type": "markdown",
      "metadata": {
        "id": "y5dddMZVQogb"
      },
      "source": [
        "# <center>3 Missionaries 3 Cannibals</center>\n",
        "\n",
        "Create the famous 3 missionaries 3 cannibals crossing the river game.\n",
        "\n",
        "[Play Game!](https://www.novelgames.com/en/missionaries/)\n",
        "\n",
        "## Notebook Content :\n",
        "\n",
        "- **Lesson 1 :**\n",
        "  - Setting up the initial environment of the game.\n",
        "\n",
        "- **Lesson 2 :**\n",
        "  - Adding the required valid and invalid conditions alongwith their operations.\n",
        "\n",
        "- **Lesson 3 :**\n",
        "  - Combining all segments of the code to build the game.\n",
        "\n",
        "- **Lesson 4 :**\n",
        "  - Adding emoticons to complete the game with better interface.\n"
      ]
    },
    {
      "cell_type": "markdown",
      "metadata": {
        "id": "E6meN3PiQogl"
      },
      "source": [
        "## Rules :\n",
        "- Only 1 or 2 people are permitted on the boat to travel.\n",
        "- We cannot select anymore missionaries or cannibals on the boat than the available number of missionaries or cannibals on either side.\n",
        "- You **lose** if the number of cannibals exceeds the number of missionaries on either side.\n",
        "- You **win** if you successfully transfer all the missionaries and cannibals from right side to left side."
      ]
    },
    {
      "cell_type": "markdown",
      "metadata": {
        "id": "1fGHJcbTQogm"
      },
      "source": [
        "## <center>**Lesson 1**</center>\n",
        "\n",
        "#### <center>**Setting up the initial environment of the game**</center>"
      ]
    },
    {
      "cell_type": "markdown",
      "metadata": {
        "id": "2qAeNA_ZQogn"
      },
      "source": [
        "In the initial conditions of the game, all the missionaries and cannibals are on the right side alongwith the boat and the left side is completely empty. We will mimic this condition by defining variables for them.\n",
        "\n",
        "### **Define initial variables :**\n",
        "\n",
        "- Define variable `boat_side` as 'Right' initially. This depicts the boat being placed at right side.\n",
        "- Create numeric variables for number of missionaries and cannibals\n",
        "   on the right and left side.\n",
        "   So there are 3 missionaries and cannibals on right side and 0 on the left side.\n",
        "- **List of Variables :**\n",
        "`boat_side, missionaries_on_right, cannibals_on_right, missionaries_on_left, cannibals_on_left`\n"
      ]
    },
    {
      "cell_type": "code",
      "metadata": {
        "id": "AmjfaRdgQogo"
      },
      "source": [
        "#### Your code ####\n",
        "boat_side = \"right\"\n",
        "missionaries_on_right = 3\n",
        "cannibals_on_right = 3\n",
        "missionaries_on_left = 0\n",
        "cannibals_on_left = 0\n"
      ],
      "execution_count": null,
      "outputs": []
    },
    {
      "cell_type": "markdown",
      "metadata": {
        "id": "544yxFpIQogp"
      },
      "source": [
        "Now display the inital conditions of the game using the following stylish manner :<br>\n",
        "\n",
        "`M = 0 C = 0  |-----B|  M = 3 C = 3`<br>\n",
        "\n",
        "Make sure to not hardcode all values."
      ]
    },
    {
      "cell_type": "code",
      "metadata": {
        "id": "EGp8GNBhQogq",
        "colab": {
          "base_uri": "https://localhost:8080/"
        },
        "outputId": "bd8931b3-8bf9-4c9f-adb9-c88ffd50614f"
      },
      "source": [
        "print(\"M = \", missionaries_on_left ,\"C =\", cannibals_on_left ,\"|boat_Position :\",boat_side, \"|\",\"M = \", missionaries_on_right ,\"C =\", cannibals_on_right ,)"
      ],
      "execution_count": null,
      "outputs": [
        {
          "output_type": "stream",
          "name": "stdout",
          "text": [
            "M =  0 C = 0 |boat_Position : right | M =  3 C = 3\n"
          ]
        }
      ]
    },
    {
      "cell_type": "markdown",
      "metadata": {
        "id": "PObVD9tdQogq"
      },
      "source": [
        "## <center>**Lesson 2**</center>\n",
        "#### <center>**Adding the required valid and invalid conditions alongwith their operations**</center>\n"
      ]
    },
    {
      "cell_type": "markdown",
      "metadata": {
        "id": "2aDEi-SqQogq"
      },
      "source": [
        "Take input from the user for entering the number of missionaries and cannibals on the boat.<br>\n",
        "Store these values in 2 variables : `missionaries, cannibals`\n",
        "\n",
        "This part depicts the process of tapping the `missionaries` and `cannibals` on to the boat.  \n",
        "\n",
        "**Note :** Make sure you pass the appropriate message in the input function that assists user in entering the values.\n",
        "\n",
        "**Note :** The following code cells will be common for both right side and left side required in Lesson 3 and Lesson 4."
      ]
    },
    {
      "cell_type": "code",
      "metadata": {
        "id": "GEglqSjrQogr",
        "colab": {
          "base_uri": "https://localhost:8080/"
        },
        "outputId": "f4ba8913-1418-4f7d-d6a1-8e86c34420a5"
      },
      "source": [
        "### Your code ###\n",
        "M = int(input(\"Enter number of missionaries :\"))\n",
        "C = int(input(\"Enter number of cannibals :\"))\n",
        "B = 0\n"
      ],
      "execution_count": null,
      "outputs": [
        {
          "name": "stdout",
          "output_type": "stream",
          "text": [
            "Enter number of missionaries :1\n",
            "Enter number of cannibals :1\n"
          ]
        }
      ]
    },
    {
      "cell_type": "markdown",
      "metadata": {
        "id": "fVfioCyZQogs"
      },
      "source": [
        "**Invalid Move 1 :**\n",
        "\n",
        "Check if the maximum number of people on the boat are 1 or 2 only else print \"Invalid move 1\""
      ]
    },
    {
      "cell_type": "code",
      "metadata": {
        "id": "50I3KT4hQogs"
      },
      "source": [
        "### Your code ###\n",
        "if ( M + C < 0 or M + C > 2):\n",
        "  print(\"invalid move 1\")"
      ],
      "execution_count": null,
      "outputs": []
    },
    {
      "cell_type": "markdown",
      "metadata": {
        "id": "Oe1ymzIIQogt"
      },
      "source": [
        "###  <center>**Codeflow for Right Side**</center>"
      ]
    },
    {
      "cell_type": "markdown",
      "source": [
        "Add if - else statement to check the value of `boat_side` variable and display if the boat is on right side.\n",
        "\n",
        "This is done to confirm the boat side before carrying out the required operations."
      ],
      "metadata": {
        "id": "SoyMGHXrZd28"
      }
    },
    {
      "cell_type": "code",
      "source": [
        "### Your code ###\n",
        "if(boat_side == \"right\"):\n",
        "  print(\"boat is on right side\")\n",
        "else:\n",
        "  print(\"boat is on left side\")"
      ],
      "metadata": {
        "id": "E0035i_CZasN",
        "colab": {
          "base_uri": "https://localhost:8080/"
        },
        "outputId": "ce94679e-5eff-43d4-e463-d76ea6643b86"
      },
      "execution_count": null,
      "outputs": [
        {
          "output_type": "stream",
          "name": "stdout",
          "text": [
            "boat is on right side\n"
          ]
        }
      ]
    },
    {
      "cell_type": "markdown",
      "source": [
        "**Invalid Move 2 :**\n",
        "\n",
        "Check if the number of missionaries or cannibals entered on the boat are greater than the available missionaries or cannibals on the right side. If yes, print \"Invalid move 2\"."
      ],
      "metadata": {
        "id": "Y8sYOlsqZolz"
      }
    },
    {
      "cell_type": "code",
      "metadata": {
        "id": "PzW5raCfQogt"
      },
      "source": [
        "### Your code ###\n",
        "B = M + C\n",
        "if (B > missionaries_on_right or B > cannibals_on_right):\n",
        "  print(\"Invalid Move 2\")"
      ],
      "execution_count": null,
      "outputs": []
    },
    {
      "cell_type": "markdown",
      "metadata": {
        "id": "d6wYZ7DLQogu"
      },
      "source": [
        "When the boat travels from right side to left side :\n",
        "- Number of missionaries and cannibals reduce from the right side.\n",
        "- Number of missionaries and cannibals increase on the left side."
      ]
    },
    {
      "cell_type": "code",
      "metadata": {
        "id": "rgbWSeUBQogu"
      },
      "source": [
        "### Your code ###\n",
        "if (boat_side == \"left\"):\n",
        "  missionaries_on_left +=  M\n",
        "  cannibals_on_left += C\n",
        "\n"
      ],
      "execution_count": null,
      "outputs": []
    },
    {
      "cell_type": "markdown",
      "metadata": {
        "id": "US5ADpenQogv"
      },
      "source": [
        "Display in the same format as mentioned above.\n",
        "\n",
        "`M = 1 C = 1  |B-----|  M = 2 C = 2`\n",
        "\n",
        "Change the `boat_side` variable to 'Left' aswell.\n",
        "\n",
        "This variable overwrite is the equivalent of the boat travelling from right side to left side."
      ]
    },
    {
      "cell_type": "code",
      "metadata": {
        "id": "roWkGTzyQogv",
        "colab": {
          "base_uri": "https://localhost:8080/"
        },
        "outputId": "306a0366-c90b-4d39-f4c5-e5a7fff60ba2"
      },
      "source": [
        "### Your code ###\n",
        "print(\"M = \", missionaries_on_left ,\"C =\", cannibals_on_left ,\"|boat_Position :\",boat_side, \"|\",\"M = \", missionaries_on_right ,\"C =\", cannibals_on_right )"
      ],
      "execution_count": null,
      "outputs": [
        {
          "output_type": "stream",
          "name": "stdout",
          "text": [
            "M =  0 C = 0 |boat_Position : right | M =  3 C = 3\n"
          ]
        }
      ]
    },
    {
      "cell_type": "markdown",
      "metadata": {
        "id": "WWKdADPJQogw"
      },
      "source": [
        "###  <center>**Codeflow for Left Side**</center>\n"
      ]
    },
    {
      "cell_type": "markdown",
      "source": [
        "Add if - else statement to check the value of `boat_side` variable and display if the boat is on left side.\n",
        "\n",
        "This is done to confirm the boat side before carrying out the required operations."
      ],
      "metadata": {
        "id": "94_ZSJi8dSvd"
      }
    },
    {
      "cell_type": "code",
      "source": [
        "### Your code ###\n",
        "if(boat_side == \"left\"):\n",
        "  print(\"boat is on left side\")\n",
        "else:\n",
        "  print(\"boat is on right side\")"
      ],
      "metadata": {
        "id": "zGgX00C-dSIt",
        "colab": {
          "base_uri": "https://localhost:8080/"
        },
        "outputId": "af550d62-771a-4cac-9038-1d2d434d30d5"
      },
      "execution_count": null,
      "outputs": [
        {
          "output_type": "stream",
          "name": "stdout",
          "text": [
            "boat is on right side\n"
          ]
        }
      ]
    },
    {
      "cell_type": "markdown",
      "source": [
        "**Invalid Move 2 :**\n",
        "\n",
        "Check if the number of missionaries or cannibals entered on the boat are greater than the available missionaries or cannibals on the left side. If yes, print \"Invalid move 2\"."
      ],
      "metadata": {
        "id": "hrTq7kv7dQ2u"
      }
    },
    {
      "cell_type": "code",
      "metadata": {
        "id": "XlrT8EEaQogw",
        "colab": {
          "base_uri": "https://localhost:8080/"
        },
        "outputId": "30d3ff32-3d00-40d7-ef32-4ecd641869fc"
      },
      "source": [
        "### Your code ###\n",
        "if( B > cannibals_on_left):\n",
        "  print(\"invalid move 2\")"
      ],
      "execution_count": null,
      "outputs": [
        {
          "output_type": "stream",
          "name": "stdout",
          "text": [
            "invalid move 2\n"
          ]
        }
      ]
    },
    {
      "cell_type": "markdown",
      "metadata": {
        "id": "gdYiQ1WXQogw"
      },
      "source": [
        "When the boat travels from left side to right side :\n",
        "- Number of missionaries and cannibals reduce from the left side.\n",
        "- Number of missionaries and cannibals increase on the right side."
      ]
    },
    {
      "cell_type": "code",
      "metadata": {
        "id": "z196LJKBQogw"
      },
      "source": [
        "### Your code ###\n",
        "if (boat_side == \"right\"):\n",
        "  missionaries_on_right +=  M\n",
        "  cannibals_on_right += C"
      ],
      "execution_count": null,
      "outputs": []
    },
    {
      "cell_type": "markdown",
      "metadata": {
        "id": "oB-3nBCkQogx"
      },
      "source": [
        "Display in the same format as mentioned above.\n",
        "\n",
        "`M = 0 C = 0  |-----B|  M = 3 C = 3`\n",
        "\n",
        "Change the `boat_side` variable to 'Right'.\n",
        "\n",
        "This marks the boat being travelled back to right side."
      ]
    },
    {
      "cell_type": "code",
      "metadata": {
        "id": "mtt1iSkoQogx",
        "colab": {
          "base_uri": "https://localhost:8080/"
        },
        "outputId": "026459f0-2193-4838-9308-f8ba35bccb99"
      },
      "source": [
        "### Your code ###\n",
        "print(\"M = \", missionaries_on_left ,\"C =\", cannibals_on_left ,\"|boat_Position :\",boat_side, \"|\",\"M = \", missionaries_on_right ,\"C =\", cannibals_on_right )"
      ],
      "execution_count": null,
      "outputs": [
        {
          "output_type": "stream",
          "name": "stdout",
          "text": [
            "M =  0 C = 0 |boat_Position : right | M =  4 C = 4\n"
          ]
        }
      ]
    },
    {
      "cell_type": "markdown",
      "source": [
        "###  <center>**Conditions for Losing the Game**</center>"
      ],
      "metadata": {
        "id": "WKu9fCDCgvPb"
      }
    },
    {
      "cell_type": "markdown",
      "metadata": {
        "id": "sNJhIGL6Qogz"
      },
      "source": [
        "Add conditions to check if the game is lost :\n",
        "- If the number of missionaries is less than the number of cannibals on the right side and the number of missionaries on right side are greater than 0, then print `'YOU LOSE'`.\n",
        "- If the number of missionaries is less than the number of cannibals on the left side and the number of missionaries on left side are greater than 0, then print `'YOU LOSE'`."
      ]
    },
    {
      "cell_type": "code",
      "metadata": {
        "id": "zKqb4BADQog0"
      },
      "source": [
        "### Your code ###\n",
        "if(cannibals_on_right > missionaries_on_right or cannibals_on_left > missionaries_on_left):\n",
        "  print(\"You Loose\")"
      ],
      "execution_count": null,
      "outputs": []
    },
    {
      "cell_type": "markdown",
      "source": [
        "###  <center>**Conditions for Winning the Game**</center>"
      ],
      "metadata": {
        "id": "3JdBVqIWhdwj"
      }
    },
    {
      "cell_type": "markdown",
      "metadata": {
        "id": "aS47ad6CQog0"
      },
      "source": [
        "Add conditions to check if the game is won :\n",
        "- If the number of missionaries and cannibals on the left side are equal to 3, then print `'YOU WIN'`."
      ]
    },
    {
      "cell_type": "code",
      "metadata": {
        "id": "5dW6W8gyQog0"
      },
      "source": [
        "### Your code ###\n",
        "if missionaries_on_left == cannibals_on_left == 3:\n",
        "  print(\"You Win\")"
      ],
      "execution_count": null,
      "outputs": []
    },
    {
      "cell_type": "markdown",
      "metadata": {
        "id": "Si__xVHFQog1"
      },
      "source": [
        "## <center>**Lesson 3**</center>\n",
        "#### <center>**Combining all segments of the code to build the game**</center>"
      ]
    },
    {
      "cell_type": "markdown",
      "source": [
        "### **Structure of the Combined Code :**\n",
        "\n",
        "<center>\n",
        "\n",
        "```\n",
        "    Setup the inital game conditions and display your game board in the below format.\n",
        "     \n",
        "        M = 0 C = 0  |-----B|  M = 3 C = 3\n",
        "```\n",
        "</center>\n",
        "\n",
        " boat_side == \"Right\":\n",
        "\n",
        "<center>\n",
        "\n",
        "```\n",
        "    Check the maximum number of people permitted to travel on the boat.    \n",
        "```\n",
        "```\n",
        "    Now check if the number of missionaries or cannibals entered on the\n",
        "    boat are more than the available missionaries and cannibals on the  \n",
        "    right side.\n",
        "```   \n",
        "```\n",
        "    When the boat travels from the right side, missionaries and cannibals\n",
        "    reduce from the right side and increase on the left side.    \n",
        "```     \n",
        "```\n",
        "    Display your game board in the below format.\n",
        "    \n",
        "        M = 0 C = 0  |B-----|  M = 3 C = 3\n",
        "\n",
        "    Make the necessary changes that mark the side change from right side to left side.\n",
        "```\n",
        "</center>\n",
        "\n",
        " boat_side == \"Left\":\n",
        "\n",
        "<center>\n",
        "\n",
        "```\n",
        "    Check the maximum number of people permitted to travel on the boat.    \n",
        "```\n",
        "```\n",
        "    Now check if the number of missionaries or cannibals entered on the\n",
        "    boat are more than the available missionaries and cannibals on the  \n",
        "    left side.\n",
        "```   \n",
        "```\n",
        "    When the boat travels from the left side, missionaries and cannibals\n",
        "    reduce from the left side and increase on the right side.    \n",
        "```\n",
        "```\n",
        "    Display your game board in the below format.\n",
        "    \n",
        "    M = 0 C = 0  |-----B|  M = 3 C = 3\n",
        "\n",
        "    Make the necessary changes that mark the side change from left side to right side.\n",
        "```\n",
        "</center>"
      ],
      "metadata": {
        "id": "e7uW2kToiKsv"
      }
    },
    {
      "cell_type": "markdown",
      "metadata": {
        "id": "IiNzyXCJQog1"
      },
      "source": [
        "The game must go on until you win or lose, so lets put all the conditions inside an infinite loop :\n",
        "\n",
        "- Connect all the segments of the code according to the above structure and do the necessary amendments.\n",
        "- If a move is invalid then without making any changes, you have to `continue`.\n",
        "\n",
        "  This is done so that we get a second chance to change our inputs and start over from the same point without losing previous amendments.\n",
        "\n",
        "- If you Win or Lose the game `break` the loop and get out of it.\n",
        "- Check the winning and losing condition everytime after the boat has travelled.\n",
        "- After getting out of the loop print `Game Over`."
      ]
    },
    {
      "cell_type": "code",
      "metadata": {
        "id": "xUjfSzZuQog1"
      },
      "source": [
        "### Your code ###\n",
        "#### Your code ####\n",
        "boat_side = \"right\"\n",
        "missionaries_on_right = 3\n",
        "cannibals_on_right = 3\n",
        "missionaries_on_left = 0\n",
        "cannibals_on_left = 0\n",
        "print(\"M = \", missionaries_on_left ,\"C =\", cannibals_on_left ,\"|--------B|\",\"M = \", missionaries_on_right ,\"C =\", cannibals_on_right ,\"\\n\")\n",
        "\n",
        "while True:\n",
        "\n",
        "  ### Your code ###\n",
        "\n",
        "  M = int(input(\"Enter number of missionaries :\"))\n",
        "  C = int(input(\"Enter number of cannibals :\"))\n",
        "\n",
        "  if ( M + C < 0 or M + C > 2):\n",
        "    print(\"invalid move 1\")\n",
        "    continue\n",
        "\n",
        "  if(boat_side == \"right\"):\n",
        "      if (M > missionaries_on_right or C> cannibals_on_right):\n",
        "        print(\"Invalid Move 2\")\n",
        "        continue\n",
        "      boat_side = 'left'\n",
        "      missionaries_on_left +=  M\n",
        "      cannibals_on_left += C\n",
        "\n",
        "      missionaries_on_right -=  M\n",
        "      cannibals_on_right -= C\n",
        "\n",
        "      print(\"M = \", missionaries_on_left ,\"C =\", cannibals_on_left ,\"|B--------|\", \"|\",\"M = \", missionaries_on_right ,\"C =\", cannibals_on_right ,\"\\n\")\n",
        "\n",
        "  else:\n",
        "    if (M > missionaries_on_left or C> cannibals_on_left):\n",
        "        print(\"Invalid Move 2\")\n",
        "        continue\n",
        "\n",
        "    boat_side = 'right'\n",
        "    missionaries_on_left -=  M\n",
        "    cannibals_on_left -= C\n",
        "\n",
        "    missionaries_on_right +=  M\n",
        "    cannibals_on_right += C\n",
        "    print(\"M = \", missionaries_on_left ,\"C =\", cannibals_on_left ,\"|--------B|\", \"|\",\"M = \", missionaries_on_right ,\"C =\", cannibals_on_right ,\"\\n\")\n",
        "\n",
        "\n",
        "  if ((cannibals_on_right > missionaries_on_right and missionaries_on_right>0 ) or (cannibals_on_left > missionaries_on_left and missionaries_on_left>0) ):\n",
        "    print(\"You Loose\")\n",
        "    break\n",
        "\n",
        "  if missionaries_on_left == 3 and cannibals_on_left == 3:\n",
        "      print(\"You Win\")\n",
        "      break\n",
        "\n",
        "\n"
      ],
      "execution_count": null,
      "outputs": []
    },
    {
      "cell_type": "code",
      "source": [
        "boat_side = 'right'\n",
        "missionaries_on_right = 3\n",
        "cannibals_on_right = 3\n",
        "missionaries_on_left = 0\n",
        "cannibals_on_left = 0\n",
        "\n",
        "#print(\"M =\",missionaries_on_left,\" C =\",cannibals_on_left,\"| ---------B |\",\"M =\",missionaries_on_right,\" C =\",cannibals_on_right)\n",
        "print(missionaries_on_left * \"\\U0001f482\",cannibals_on_left *'\\U0001f479','\\U0001f30a \\U0001f30a \\U0001f30a \\U0001f30a \\U0001f30a \\U0001f6A2',missionaries_on_right * \"\\U0001f482\",cannibals_on_right *'\\U0001f479')\n",
        "\n",
        "while True:\n",
        "  M = int(input(\"Missionaries : \"))\n",
        "  C = int(input(\"Cannibals : \"))\n",
        "\n",
        "  if(M + C > 2 or M + C < 0):\n",
        "    print(\"Invalid Input 1 !\")\n",
        "    continue\n",
        "\n",
        "  if(boat_side == 'right'):\n",
        "    if(M > missionaries_on_right or C > cannibals_on_right):\n",
        "      print(\"invalid move 2 !\")\n",
        "      continue\n",
        "\n",
        "    boat_side = 'left'\n",
        "    missionaries_on_left += M\n",
        "    cannibals_on_left += C\n",
        "    missionaries_on_right -= M\n",
        "    cannibals_on_right -= C\n",
        "    print(missionaries_on_left * \"\\U0001f482\",cannibals_on_left * '\\U0001f479','\\U0001f30a \\U0001f30a \\U0001f30a \\U0001f30a \\U0001f30a \\U0001f6A2',missionaries_on_right * \"\\U0001f482\",cannibals_on_right * '\\U0001f479')\n",
        "    #print(\"M = \", missionaries_on_left ,\"C =\", cannibals_on_left ,\"|B--------|\",\"M = \", missionaries_on_right ,\"C =\", cannibals_on_right ,\"\\n\")\n",
        "\n",
        "\n",
        "  else:\n",
        "    if(M > missionaries_on_left or C > cannibals_on_left):\n",
        "      print(\"invalid MOve 2 !\")\n",
        "      continue\n",
        "    boat_side = 'right'\n",
        "    missionaries_on_left -= M\n",
        "    cannibals_on_left -= C\n",
        "    missionaries_on_right += M\n",
        "    cannibals_on_right += C\n",
        "\n",
        "    print(missionaries_on_left * \"\\U0001f482\",cannibals_on_left * '\\U0001f479','\\U0001f6A2 \\U0001f30a \\U0001f30a \\U0001f30a \\U0001f30a \\U0001f30a ',missionaries_on_right * \"\\U0001f482\",cannibals_on_right * '\\U0001f479')\n",
        "\n",
        "    #print(\"M = \", missionaries_on_left ,\"C =\", cannibals_on_left ,\"|--------B|\",\"M = \", missionaries_on_right ,\"C =\", cannibals_on_right ,\"\\n\")\n",
        "\n",
        "  if((cannibals_on_left > missionaries_on_left and missionaries_on_left > 0) or (cannibals_on_right > missionaries_on_right and missionaries_on_right > 0)):\n",
        "    print(\"You Loose ...\")\n",
        "    break\n",
        "  elif (missionaries_on_left == 3 and cannibals_on_left ==3):\n",
        "    print(\"You Win !\")\n",
        "    break\n"
      ],
      "metadata": {
        "colab": {
          "base_uri": "https://localhost:8080/",
          "height": 426
        },
        "id": "JeyEvsUMJcI8",
        "outputId": "208c56cc-c1d9-41a4-cefe-f1e72fc6c8f8"
      },
      "execution_count": null,
      "outputs": [
        {
          "output_type": "stream",
          "name": "stdout",
          "text": [
            "  🌊 🌊 🌊 🌊 🌊 🚢 💂💂💂 👹👹👹\n",
            "Missionaries : 0\n",
            "Cannibals : 2\n",
            " 👹👹 🌊 🌊 🌊 🌊 🌊 🚢 💂💂💂 👹\n"
          ]
        },
        {
          "output_type": "error",
          "ename": "KeyboardInterrupt",
          "evalue": "Interrupted by user",
          "traceback": [
            "\u001b[0;31m---------------------------------------------------------------------------\u001b[0m",
            "\u001b[0;31mKeyboardInterrupt\u001b[0m                         Traceback (most recent call last)",
            "\u001b[0;32m<ipython-input-17-cb6597e349e8>\u001b[0m in \u001b[0;36m<cell line: 10>\u001b[0;34m()\u001b[0m\n\u001b[1;32m      9\u001b[0m \u001b[0;34m\u001b[0m\u001b[0m\n\u001b[1;32m     10\u001b[0m \u001b[0;32mwhile\u001b[0m \u001b[0;32mTrue\u001b[0m\u001b[0;34m:\u001b[0m\u001b[0;34m\u001b[0m\u001b[0;34m\u001b[0m\u001b[0m\n\u001b[0;32m---> 11\u001b[0;31m   \u001b[0mM\u001b[0m \u001b[0;34m=\u001b[0m \u001b[0mint\u001b[0m\u001b[0;34m(\u001b[0m\u001b[0minput\u001b[0m\u001b[0;34m(\u001b[0m\u001b[0;34m\"Missionaries : \"\u001b[0m\u001b[0;34m)\u001b[0m\u001b[0;34m)\u001b[0m\u001b[0;34m\u001b[0m\u001b[0;34m\u001b[0m\u001b[0m\n\u001b[0m\u001b[1;32m     12\u001b[0m   \u001b[0mC\u001b[0m \u001b[0;34m=\u001b[0m \u001b[0mint\u001b[0m\u001b[0;34m(\u001b[0m\u001b[0minput\u001b[0m\u001b[0;34m(\u001b[0m\u001b[0;34m\"Cannibals : \"\u001b[0m\u001b[0;34m)\u001b[0m\u001b[0;34m)\u001b[0m\u001b[0;34m\u001b[0m\u001b[0;34m\u001b[0m\u001b[0m\n\u001b[1;32m     13\u001b[0m \u001b[0;34m\u001b[0m\u001b[0m\n",
            "\u001b[0;32m/usr/local/lib/python3.10/dist-packages/ipykernel/kernelbase.py\u001b[0m in \u001b[0;36mraw_input\u001b[0;34m(self, prompt)\u001b[0m\n\u001b[1;32m    849\u001b[0m                 \u001b[0;34m\"raw_input was called, but this frontend does not support input requests.\"\u001b[0m\u001b[0;34m\u001b[0m\u001b[0;34m\u001b[0m\u001b[0m\n\u001b[1;32m    850\u001b[0m             )\n\u001b[0;32m--> 851\u001b[0;31m         return self._input_request(str(prompt),\n\u001b[0m\u001b[1;32m    852\u001b[0m             \u001b[0mself\u001b[0m\u001b[0;34m.\u001b[0m\u001b[0m_parent_ident\u001b[0m\u001b[0;34m,\u001b[0m\u001b[0;34m\u001b[0m\u001b[0;34m\u001b[0m\u001b[0m\n\u001b[1;32m    853\u001b[0m             \u001b[0mself\u001b[0m\u001b[0;34m.\u001b[0m\u001b[0m_parent_header\u001b[0m\u001b[0;34m,\u001b[0m\u001b[0;34m\u001b[0m\u001b[0;34m\u001b[0m\u001b[0m\n",
            "\u001b[0;32m/usr/local/lib/python3.10/dist-packages/ipykernel/kernelbase.py\u001b[0m in \u001b[0;36m_input_request\u001b[0;34m(self, prompt, ident, parent, password)\u001b[0m\n\u001b[1;32m    893\u001b[0m             \u001b[0;32mexcept\u001b[0m \u001b[0mKeyboardInterrupt\u001b[0m\u001b[0;34m:\u001b[0m\u001b[0;34m\u001b[0m\u001b[0;34m\u001b[0m\u001b[0m\n\u001b[1;32m    894\u001b[0m                 \u001b[0;31m# re-raise KeyboardInterrupt, to truncate traceback\u001b[0m\u001b[0;34m\u001b[0m\u001b[0;34m\u001b[0m\u001b[0m\n\u001b[0;32m--> 895\u001b[0;31m                 \u001b[0;32mraise\u001b[0m \u001b[0mKeyboardInterrupt\u001b[0m\u001b[0;34m(\u001b[0m\u001b[0;34m\"Interrupted by user\"\u001b[0m\u001b[0;34m)\u001b[0m \u001b[0;32mfrom\u001b[0m \u001b[0;32mNone\u001b[0m\u001b[0;34m\u001b[0m\u001b[0;34m\u001b[0m\u001b[0m\n\u001b[0m\u001b[1;32m    896\u001b[0m             \u001b[0;32mexcept\u001b[0m \u001b[0mException\u001b[0m \u001b[0;32mas\u001b[0m \u001b[0me\u001b[0m\u001b[0;34m:\u001b[0m\u001b[0;34m\u001b[0m\u001b[0;34m\u001b[0m\u001b[0m\n\u001b[1;32m    897\u001b[0m                 \u001b[0mself\u001b[0m\u001b[0;34m.\u001b[0m\u001b[0mlog\u001b[0m\u001b[0;34m.\u001b[0m\u001b[0mwarning\u001b[0m\u001b[0;34m(\u001b[0m\u001b[0;34m\"Invalid Message:\"\u001b[0m\u001b[0;34m,\u001b[0m \u001b[0mexc_info\u001b[0m\u001b[0;34m=\u001b[0m\u001b[0;32mTrue\u001b[0m\u001b[0;34m)\u001b[0m\u001b[0;34m\u001b[0m\u001b[0;34m\u001b[0m\u001b[0m\n",
            "\u001b[0;31mKeyboardInterrupt\u001b[0m: Interrupted by user"
          ]
        }
      ]
    },
    {
      "cell_type": "markdown",
      "source": [],
      "metadata": {
        "id": "yD98Y0D55tka"
      }
    },
    {
      "cell_type": "markdown",
      "source": [
        "## <center>**Lesson 4**</center>\n",
        "\n",
        "####<center>**Adding emoticons to complete the game with better interface**</center>"
      ],
      "metadata": {
        "id": "FZHREN7aVHTa"
      }
    },
    {
      "cell_type": "markdown",
      "metadata": {
        "id": "-hIyuzsJQog3"
      },
      "source": [
        "###  Let's make it pretty!\n",
        "\n",
        "#### Clear Screen :\n",
        "- This is a `function` that is utilized to clear the screen after every input statement and helps us to reduce the huge output generated after playing the game built in Lesson 3.\n",
        "  \n",
        "- Copy the following code snippet and paste at the top of your code:\n",
        "\n",
        "  `from IPython.display import clear_output`\n",
        "\n",
        "- Decide its place in the code such that after using it, we should be able to see the changes done after carrying out all the operations of that side and assists us in deciding our next move for the opposite side.\n",
        "\n",
        "  `clear_output()`\n",
        "\n",
        "#### Adding Emoticons :\n",
        "- Use the power of unicodes and emoticons.\n",
        "- Use of string replication.\n",
        "- **Hint :** The unicodes are in string datatype string and display using print function.\n",
        "\n",
        "**The output should look like this after making all the changes**\n",
        "\n",
        "|🌊🌊🌊🌊🌊🚢|💂💂💂👹👹👹\n",
        "<br>\n",
        "After the first move, if we input 1 missionary and 1 cannibal the output will be:\n",
        "\n",
        "💂👹|🌊🌊🌊🌊🌊🚢|💂💂👹👹\n",
        "\n",
        "##### Unicodes\n",
        "💂 = '\\U0001f482'\n",
        "\n",
        "👹 = '\\U0001f479'\n",
        "\n",
        "🌊 = '\\U0001f30a'\n",
        "\n",
        "🚢 = '\\U0001f6A2'"
      ]
    },
    {
      "cell_type": "code",
      "metadata": {
        "id": "Cadm-2d0Qog4"
      },
      "source": [
        "# Print in extra stylish manner\n",
        "\n",
        "# Display the number of missionaries based on their count on the left side using string replication\n",
        "### Your code ###\n",
        "\n",
        "\n",
        "# Display the number of cannibals based on their count on the left side using string replication\n",
        "### Your code ###\n",
        "\n",
        "\n",
        "# Display the waves emoji for 4 times using string replication\n",
        "### Your code ###\n",
        "\n",
        "\n",
        "# Display the boat using string replication\n",
        "### Your code ###\n",
        "\n",
        "\n",
        "# Display the number of missionaries based on their count on the right side using string replication\n",
        "### Your code ###\n",
        "\n",
        "\n",
        "# Display the number of cannibals based on their count on the right side using string replication\n",
        "### Your code ###\n",
        "\n"
      ],
      "execution_count": null,
      "outputs": []
    },
    {
      "cell_type": "markdown",
      "metadata": {
        "id": "WpcPEa3JQog4"
      },
      "source": [
        "### <center>**Complete Code**</center>\n"
      ]
    },
    {
      "cell_type": "code",
      "source": [
        "### Your Code ###"
      ],
      "metadata": {
        "id": "ET8viXLG0e2K"
      },
      "execution_count": null,
      "outputs": []
    },
    {
      "cell_type": "code",
      "source": [],
      "metadata": {
        "id": "wFYtrJyhV5E6"
      },
      "execution_count": null,
      "outputs": []
    },
    {
      "cell_type": "code",
      "source": [
        "'''\n",
        "create function for boat travel\n",
        "array for left river side and right river side\n",
        "function to update no of missionaries and cannibals\n",
        "\n",
        "'''"
      ],
      "metadata": {
        "id": "rFA43wUGWYHR"
      },
      "execution_count": null,
      "outputs": []
    },
    {
      "cell_type": "code",
      "source": [],
      "metadata": {
        "id": "RCrDH19PV-cj"
      },
      "execution_count": null,
      "outputs": []
    },
    {
      "cell_type": "markdown",
      "source": [
        "# <center>Happy Learning!</center>"
      ],
      "metadata": {
        "id": "VDdKbLpalpUS"
      }
    }
  ]
}