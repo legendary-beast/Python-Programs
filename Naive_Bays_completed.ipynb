{
  "cells": [
    {
      "cell_type": "markdown",
      "metadata": {
        "id": "view-in-github",
        "colab_type": "text"
      },
      "source": [
        "<a href=\"https://colab.research.google.com/github/legendary-beast/Python-Programs/blob/main/Naive_Bays_completed.ipynb\" target=\"_parent\"><img src=\"https://colab.research.google.com/assets/colab-badge.svg\" alt=\"Open In Colab\"/></a>"
      ]
    },
    {
      "cell_type": "code",
      "execution_count": null,
      "id": "33311d43-ee15-4202-8faa-d5e7ebd85b6a",
      "metadata": {
        "id": "33311d43-ee15-4202-8faa-d5e7ebd85b6a"
      },
      "outputs": [],
      "source": [
        "import pandas as pd\n",
        "import numpy as np\n",
        "from sklearn.model_selection import train_test_split\n",
        "from sklearn.feature_extraction.text import TfidfVectorizer, CountVectorizer\n",
        "from sklearn.neighbors import KNeighborsClassifier\n",
        "from sklearn.svm import SVC\n",
        "from sklearn.naive_bayes import GaussianNB\n",
        "\n",
        "import matplotlib.pyplot as plt\n",
        "import seaborn as sns\n",
        "\n",
        "%matplotlib inline"
      ]
    },
    {
      "cell_type": "code",
      "execution_count": null,
      "id": "5a7cb39a-37d3-4760-af48-16807aca7175",
      "metadata": {
        "id": "5a7cb39a-37d3-4760-af48-16807aca7175",
        "outputId": "8c7c58c2-4c00-49ff-bb7e-c0a9c8bb65c3"
      },
      "outputs": [
        {
          "data": {
            "text/html": [
              "<div>\n",
              "<style scoped>\n",
              "    .dataframe tbody tr th:only-of-type {\n",
              "        vertical-align: middle;\n",
              "    }\n",
              "\n",
              "    .dataframe tbody tr th {\n",
              "        vertical-align: top;\n",
              "    }\n",
              "\n",
              "    .dataframe thead th {\n",
              "        text-align: right;\n",
              "    }\n",
              "</style>\n",
              "<table border=\"1\" class=\"dataframe\">\n",
              "  <thead>\n",
              "    <tr style=\"text-align: right;\">\n",
              "      <th></th>\n",
              "      <th>type</th>\n",
              "      <th>posts</th>\n",
              "    </tr>\n",
              "  </thead>\n",
              "  <tbody>\n",
              "    <tr>\n",
              "      <th>0</th>\n",
              "      <td>INFJ</td>\n",
              "      <td>'http://www.youtube.com/watch?v=qsXHcwe3krw|||...</td>\n",
              "    </tr>\n",
              "    <tr>\n",
              "      <th>1</th>\n",
              "      <td>ENTP</td>\n",
              "      <td>'I'm finding the lack of me in these posts ver...</td>\n",
              "    </tr>\n",
              "    <tr>\n",
              "      <th>2</th>\n",
              "      <td>INTP</td>\n",
              "      <td>'Good one  _____   https://www.youtube.com/wat...</td>\n",
              "    </tr>\n",
              "    <tr>\n",
              "      <th>3</th>\n",
              "      <td>INTJ</td>\n",
              "      <td>'Dear INTP,   I enjoyed our conversation the o...</td>\n",
              "    </tr>\n",
              "    <tr>\n",
              "      <th>4</th>\n",
              "      <td>ENTJ</td>\n",
              "      <td>'You're fired.|||That's another silly misconce...</td>\n",
              "    </tr>\n",
              "  </tbody>\n",
              "</table>\n",
              "</div>"
            ],
            "text/plain": [
              "   type                                              posts\n",
              "0  INFJ  'http://www.youtube.com/watch?v=qsXHcwe3krw|||...\n",
              "1  ENTP  'I'm finding the lack of me in these posts ver...\n",
              "2  INTP  'Good one  _____   https://www.youtube.com/wat...\n",
              "3  INTJ  'Dear INTP,   I enjoyed our conversation the o...\n",
              "4  ENTJ  'You're fired.|||That's another silly misconce..."
            ]
          },
          "execution_count": 10,
          "metadata": {},
          "output_type": "execute_result"
        }
      ],
      "source": [
        "mbti =  pd.read_csv('mbti_1.csv')\n",
        "mbti.head()"
      ]
    },
    {
      "cell_type": "code",
      "execution_count": null,
      "id": "5cdc66cd-ab6c-4cd0-b48e-722c31ba7d60",
      "metadata": {
        "id": "5cdc66cd-ab6c-4cd0-b48e-722c31ba7d60",
        "outputId": "52d215d6-a080-44f4-80d0-f7d768703e8e"
      },
      "outputs": [
        {
          "data": {
            "text/plain": [
              "((8674,), (8674,))"
            ]
          },
          "execution_count": 11,
          "metadata": {},
          "output_type": "execute_result"
        }
      ],
      "source": [
        "x = mbti['posts']\n",
        "y = mbti['type']\n",
        "x.shape,y.shape\n"
      ]
    },
    {
      "cell_type": "code",
      "execution_count": null,
      "id": "627bacb2-bc00-4aa3-b79f-091847ce17ce",
      "metadata": {
        "id": "627bacb2-bc00-4aa3-b79f-091847ce17ce",
        "outputId": "93cd9f5e-a9b8-4bb5-90a2-178b802314bf"
      },
      "outputs": [
        {
          "data": {
            "text/plain": [
              "\"'Good one  _____   https://www.youtube.com/watch?v=fHiGbolFFGw|||Of course, to which I say I know; that's my blessing and my curse.|||Does being absolutely positive that you and your best friend could be an amazing couple count? If so, than yes.   Or it's more I could be madly in love in case I reconciled my feelings (which at...|||No, I didn't; thank you for a link!|||So-called Ti-Si loop (and it can stem from any current topic/obsession) can be deadly. It's like when you're stuck in your own thoughts, and your mind just wanders in circles. Feels truly terrible. ...|||Have you noticed how peculiar vegetation can be? All you have to do is look down at the grass: dozens of different plant species there.    And now imagine that hundreds of years later (when/if soil...|||The Smiths – Never Had No One Ever|||I often find myself spotting faces on marble tiles/wood.|||This 5 year-old sentence is an incredibly accurate and beautiful description.|||I haven't visited this website in the last 3 years. So whoever reads this (and maybe even remembers me, which I highly doubt): hi.  700049  700057|||When you sit in your garden until 10:30 PM writing songs, and sing them (together with dozens of crickets) while playing your acoustic guitar.|||This is the most INTP-ish thread I've ever seen.|||I wouldn't be able to look at the painting for the entire life if I knew that I picked it over the human being.|||I was drawing a background for my animation on which I'm working right now - it should have been Mars.. But I felt obligated to make Mark Watneyx92s postcard from it :D  If you read the book...|||I started to make comics about turtle Gordon and unicorn Chimes - here you can see two first stories: https://www.tumblr.com/blog/-alexxxandra-|||INTJ Recently I started to post my comics about two friends - turtle Gordon and unicorn Chimes. Before that, I just posted stuff that interested me, but from now on I'll try to include only my works...|||Probably we could work together on a new model - I'm an expert in abrupt explosions of laughter upon various weird stuff. That happens because of peculiar sense of humor - so peculiar that not much...|||Hellooo Nah, you can touch it. Everyone thinks that it's scared or sad, but that's not true - in fact it has an absolutely neutral face. And this kitten actually really likes patting and hugs (only...|||Well.. kind of; As it was already mentioned, sometimes because of Ni it's hard to convey complex stuff which pops up in your head in whimsical compilations of shapes and pictures only with words....|||I think this kitten would be very appropriate here.  376562|||367034|||GOOD NIGHT everyone out there! Even if for someone there is morning right now - nights always supersede mornings.. And people say good night in order to meet next day :)|||Oh, that movie :) It's awesome Thank you! Hope you had good sleep in the air; anyway, I'm wishing you good night for the next night ahead! (hopefully it will be on land)  Good people deserve good...|||358882  358890|||Well, other people who may be wondering about an issue from the name of the topic will find your response helpful anyway :)|||This. Finally someone mentioned that :)|||I still see creatures/faces in a maze of various random patterns. It can be amusing sometimes.  It's a very handy skill when you're bored.|||Oh, I didn't know that.. What a pity.  Why not sacrifice whole supermarket, then? We can decide which Walmart will be the best (I think the biggest one would be great).|||yippy  Here you go  357002  He thinks that the fire is delicious. Should I sacrifice tofu? I don't like to waste food.|||I don't think that the creator of this thread cares what's going on here after 3 years :)|||Heh, I understand you :) With these same given languages)))|||Yessss, Adventure Time :D|||I get angry quite rarely, but when I do, it's safer for surrounding people to go somewhere else. It's impossible for me to hide or suppress anger; the only way to get rid of this feeling is to burst...|||I've never liked it  Anything fake is bad, actually.|||Hugs should be given only to chosen ones. Chosen. There are quite few of them, though.|||349890|||Yup, you're doing it right :)|||http://-alexxxandra-.tumblr.com/|||256818|||Of course it's not very comfortable.  But. Human race survived thankfully women's ability to give birth to other human beings. It worked for thousands of years. Why change it? Besides, there are...|||That happens. And it occurs because most often people use results of extremely precise and elaborate online tests as a basis of determining one's type.      Both visual and language arts (more...|||246386|||I study graphic design now, which I really enjoy. What is interesting about this field, is that the ability to generate ideas and solve problems is much more important than possession of a specific...|||Alexxxandra97 - DeviantArt|||236994|||http://www.youtube.com/watch?v=2Nkcn8m9M0M|||I am always ready to discipline (to intimidate, to be precise) my sibling's offender.|||World domination? Shooting people in the head? Why?  Oh, right, INTJs always must be characterised only with these words.     I want to show so badly my reaction to this: 221226|||218106|||ISTP?   http://www.youtube.com/watch?v=7ghqoYxmaUE'\""
            ]
          },
          "execution_count": 39,
          "metadata": {},
          "output_type": "execute_result"
        }
      ],
      "source": [
        "mbti['posts'][2]"
      ]
    },
    {
      "cell_type": "code",
      "execution_count": null,
      "id": "3867e50c-86cf-4be3-b78d-33a8226ab600",
      "metadata": {
        "id": "3867e50c-86cf-4be3-b78d-33a8226ab600",
        "outputId": "44081923-c16c-44bf-f060-aa00cfeff847"
      },
      "outputs": [
        {
          "data": {
            "text/plain": [
              "array([[0, 0, 0, ..., 0, 0, 0],\n",
              "       [1, 1, 0, ..., 0, 0, 0],\n",
              "       [0, 1, 0, ..., 1, 0, 0],\n",
              "       ...,\n",
              "       [0, 1, 0, ..., 1, 0, 0],\n",
              "       [0, 1, 0, ..., 0, 0, 0],\n",
              "       [0, 0, 0, ..., 0, 0, 0]], dtype=int64)"
            ]
          },
          "execution_count": 14,
          "metadata": {},
          "output_type": "execute_result"
        }
      ],
      "source": [
        "vect = CountVectorizer(ngram_range=(1,3), min_df=5, max_features=8000)\n",
        "x_vec = vect.fit_transform(x).toarray();x_vec"
      ]
    },
    {
      "cell_type": "code",
      "execution_count": null,
      "id": "13605db7-6fdb-4c1c-95a7-f25d787f63a6",
      "metadata": {
        "id": "13605db7-6fdb-4c1c-95a7-f25d787f63a6",
        "outputId": "a12705da-d111-4641-e38a-8bdda8e80c79"
      },
      "outputs": [
        {
          "data": {
            "text/plain": [
              "(8674, 8000)"
            ]
          },
          "execution_count": 13,
          "metadata": {},
          "output_type": "execute_result"
        }
      ],
      "source": [
        "x_vec.shape"
      ]
    },
    {
      "cell_type": "code",
      "execution_count": null,
      "id": "359f4fbd-5b3e-4c5c-ba29-92e1b250b9f5",
      "metadata": {
        "id": "359f4fbd-5b3e-4c5c-ba29-92e1b250b9f5"
      },
      "outputs": [],
      "source": [
        "x_train, x_test, y_train, y_test = train_test_split(x_vec, y,\n",
        "                                                    random_state=0)\n"
      ]
    },
    {
      "cell_type": "code",
      "execution_count": null,
      "id": "ef838185-0c65-4525-b451-8dda296aa685",
      "metadata": {
        "id": "ef838185-0c65-4525-b451-8dda296aa685",
        "outputId": "5db56ec8-e719-4c7a-c031-9f94612962b2"
      },
      "outputs": [
        {
          "name": "stdout",
          "output_type": "stream",
          "text": [
            "CPU times: total: 7.91 s\n",
            "Wall time: 3.37 s\n"
          ]
        },
        {
          "data": {
            "text/plain": [
              "0.22544951590594745"
            ]
          },
          "execution_count": 17,
          "metadata": {},
          "output_type": "execute_result"
        }
      ],
      "source": [
        "%%time\n",
        "knn = KNeighborsClassifier()\n",
        "knn.fit(x_train,y_train),\n",
        "knn.score(x_test,y_test)"
      ]
    },
    {
      "cell_type": "code",
      "execution_count": null,
      "id": "0b6a836e-11e1-4b20-8484-104df179e84a",
      "metadata": {
        "id": "0b6a836e-11e1-4b20-8484-104df179e84a"
      },
      "outputs": [],
      "source": []
    },
    {
      "cell_type": "code",
      "execution_count": null,
      "id": "8207ea9e-cd3c-44e8-a352-cef6baf9f74b",
      "metadata": {
        "id": "8207ea9e-cd3c-44e8-a352-cef6baf9f74b",
        "outputId": "342ff498-766e-4b35-f661-1a716c3fc86e"
      },
      "outputs": [
        {
          "name": "stdout",
          "output_type": "stream",
          "text": [
            "sample noise removing program\n"
          ]
        }
      ],
      "source": [
        "#remove noise from text\n",
        "noise_list = [\"is\",\"this\",\"...\",\"what\",\"a\",\"in\",\"the\",\"of\"]\n",
        "def _remove_noise(input_text):\n",
        "    words = input_text.split()\n",
        "    noise_free_words = [word for word in words if word not in noise_list]\n",
        "    noise_free_text =  \" \".join(noise_free_words)\n",
        "    return noise_free_text\n",
        "\n",
        "print(_remove_noise(\"this is a sample of the noise removing program\"))"
      ]
    },
    {
      "cell_type": "code",
      "execution_count": null,
      "id": "2ac93b3d-e4b9-4172-81d4-282eb163f58e",
      "metadata": {
        "id": "2ac93b3d-e4b9-4172-81d4-282eb163f58e",
        "outputId": "b62c3158-bb82-43df-beb3-c1ade85d8abf"
      },
      "outputs": [
        {
          "name": "stdout",
          "output_type": "stream",
          "text": [
            "multiply\n",
            "multipli\n"
          ]
        },
        {
          "name": "stderr",
          "output_type": "stream",
          "text": [
            "[nltk_data] Downloading package wordnet to\n",
            "[nltk_data]     C:\\Users\\HP\\AppData\\Roaming\\nltk_data...\n",
            "[nltk_data]   Package wordnet is already up-to-date!\n"
          ]
        }
      ],
      "source": [
        "#Lexicon Normalization\n",
        "import nltk\n",
        "nltk.download('wordnet')\n",
        "\n",
        "from nltk.stem.wordnet import WordNetLemmatizer\n",
        "lem = WordNetLemmatizer()\n",
        "from nltk.stem.porter import PorterStemmer\n",
        "stem = PorterStemmer()\n",
        "\n",
        "word = 'multiplying'\n",
        "print(lem.lemmatize(word,\"v\"))\n",
        "print(stem.stem(word))"
      ]
    },
    {
      "cell_type": "code",
      "execution_count": null,
      "id": "c501262d-f23f-4a03-b3bc-c52aa6099886",
      "metadata": {
        "id": "c501262d-f23f-4a03-b3bc-c52aa6099886",
        "outputId": "98b99c55-fe3e-4e67-99f1-35c9893db699"
      },
      "outputs": [
        {
          "name": "stdout",
          "output_type": "stream",
          "text": [
            "\n",
            "\n",
            "Stemming\n",
            "\n",
            "\n",
            "multipli\n"
          ]
        }
      ],
      "source": [
        "#stemming\n",
        "from nltk.stem.wordnet import WordNetLemmatizer\n",
        "lem = WordNetLemmatizer()\n",
        "from nltk.stem.porter import PorterStemmer\n",
        "stem = PorterStemmer()\n",
        "word = \"multiplying\"\n",
        "print('\\n\\nStemming\\n\\n')\n",
        "print(stem.stem(word))"
      ]
    },
    {
      "cell_type": "code",
      "execution_count": null,
      "id": "9a9fac26-0085-45b6-815f-751bbf82335a",
      "metadata": {
        "id": "9a9fac26-0085-45b6-815f-751bbf82335a"
      },
      "outputs": [],
      "source": [
        "mbit = pd.read_csv('mbti_1.csv')"
      ]
    },
    {
      "cell_type": "code",
      "execution_count": null,
      "id": "045590cd-f06f-494e-b546-e198f12a209e",
      "metadata": {
        "id": "045590cd-f06f-494e-b546-e198f12a209e"
      },
      "outputs": [],
      "source": [
        "import re\n",
        "\n",
        "def clean_text(text):\n",
        "    # Remove URLs\n",
        "    text = re.sub(r'http\\S+|www\\S+|https\\S+', '', text, flags=re.MULTILINE)\n",
        "    # Remove HTML tags\n",
        "    text = re.sub(r'<.*?>', '', text)\n",
        "    # Remove @ mentions\n",
        "    text = re.sub(r'@\\w+', '', text)\n",
        "    # Remove hashtags\n",
        "    text = re.sub(r'#\\w+', '', text)\n",
        "    # Remove punctuations and special characters\n",
        "    text = re.sub(r'[^A-Za-z\\s]', '', text)\n",
        "    # Remove numbers\n",
        "    text = re.sub(r'\\d+', '', text)\n",
        "    # Remove extra spaces\n",
        "    text = re.sub(r'\\s+', ' ', text).strip()\n",
        "    return text\n",
        "\n",
        "# Example usage\n",
        "# text = mbti['posts']\n",
        "# cleaned_text = clean_text(text)\n",
        "# print(cleaned_text)\n",
        "\n"
      ]
    },
    {
      "cell_type": "code",
      "execution_count": null,
      "id": "7d4dbb1d-0a75-43ea-aeb2-44dae9c50742",
      "metadata": {
        "id": "7d4dbb1d-0a75-43ea-aeb2-44dae9c50742"
      },
      "outputs": [],
      "source": [
        "mbit['posts'] = mbit['posts'].apply(lambda x:clean_text(x))"
      ]
    },
    {
      "cell_type": "code",
      "execution_count": null,
      "id": "e15d6889-bd97-4e92-b53f-caf4b505afa5",
      "metadata": {
        "id": "e15d6889-bd97-4e92-b53f-caf4b505afa5",
        "outputId": "b05fda4d-308f-4e24-d735-6616be60688e"
      },
      "outputs": [
        {
          "data": {
            "text/plain": [
              "0       and intj moments sportscenter not top ten play...\n",
              "1       Im finding the lack of me in these posts very ...\n",
              "2       Good one course to which I say I know thats my...\n",
              "3       Dear INTP I enjoyed our conversation the other...\n",
              "4       Youre firedThats another silly misconception T...\n",
              "                              ...                        \n",
              "8669    just because I always think of cats as Fi doms...\n",
              "8670    Soif this thread already exists someplace else...\n",
              "8671    So many questions when i do these things I wou...\n",
              "8672    I am very conflicted right now when it comes t...\n",
              "8673    It has been too long since I have been on pers...\n",
              "Name: posts, Length: 8674, dtype: object"
            ]
          },
          "execution_count": 67,
          "metadata": {},
          "output_type": "execute_result"
        }
      ],
      "source": [
        "mbit['posts']"
      ]
    },
    {
      "cell_type": "code",
      "execution_count": null,
      "id": "4f0616ad-f851-4d25-b907-713b5b687459",
      "metadata": {
        "id": "4f0616ad-f851-4d25-b907-713b5b687459",
        "outputId": "04585d5b-88f6-4c4a-a01a-c2526d412c60"
      },
      "outputs": [
        {
          "data": {
            "text/plain": [
              "'Good one course to which I say I know thats my blessing and my curseDoes being absolutely positive that you and your best friend could be an amazing couple count If so than yes Or its more I could be madly in love in case I reconciled my feelings which atNo I didnt thank you for a linkSocalled TiSi loop and it can stem from any current topicobsession can be deadly Its like when youre stuck in your own thoughts and your mind just wanders in circles Feels truly terrible Have you noticed how peculiar vegetation can be All you have to do is look down at the grass dozens of different plant species there And now imagine that hundreds of years later whenif soilThe Smiths Never Had No One EverI often find myself spotting faces on marble tileswoodThis yearold sentence is an incredibly accurate and beautiful descriptionI havent visited this website in the last years So whoever reads this and maybe even remembers me which I highly doubt hi When you sit in your garden until PM writing songs and sing them together with dozens of crickets while playing your acoustic guitarThis is the most INTPish thread Ive ever seenI wouldnt be able to look at the painting for the entire life if I knew that I picked it over the human beingI was drawing a background for my animation on which Im working right now it should have been Mars But I felt obligated to make Mark Watneyxs postcard from it D If you read the bookI started to make comics about turtle Gordon and unicorn Chimes here you can see two first stories Recently I started to post my comics about two friends turtle Gordon and unicorn Chimes Before that I just posted stuff that interested me but from now on Ill try to include only my worksProbably we could work together on a new model Im an expert in abrupt explosions of laughter upon various weird stuff That happens because of peculiar sense of humor so peculiar that not muchHellooo Nah you can touch it Everyone thinks that its scared or sad but thats not true in fact it has an absolutely neutral face And this kitten actually really likes patting and hugs onlyWell kind of As it was already mentioned sometimes because of Ni its hard to convey complex stuff which pops up in your head in whimsical compilations of shapes and pictures only with wordsI think this kitten would be very appropriate here GOOD NIGHT everyone out there Even if for someone there is morning right now nights always supersede mornings And people say good night in order to meet next day Oh that movie Its awesome Thank you Hope you had good sleep in the air anyway Im wishing you good night for the next night ahead hopefully it will be on land Good people deserve good Well other people who may be wondering about an issue from the name of the topic will find your response helpful anyway This Finally someone mentioned that I still see creaturesfaces in a maze of various random patterns It can be amusing sometimes Its a very handy skill when youre boredOh I didnt know that What a pity Why not sacrifice whole supermarket then We can decide which Walmart will be the best I think the biggest one would be greatyippy Here you go He thinks that the fire is delicious Should I sacrifice tofu I dont like to waste foodI dont think that the creator of this thread cares whats going on here after years Heh I understand you With these same given languagesYessss Adventure Time DI get angry quite rarely but when I do its safer for surrounding people to go somewhere else Its impossible for me to hide or suppress anger the only way to get rid of this feeling is to burstIve never liked it Anything fake is bad actuallyHugs should be given only to chosen ones Chosen There are quite few of them thoughYup youre doing it right course its not very comfortable But Human race survived thankfully womens ability to give birth to other human beings It worked for thousands of years Why change it Besides there areThat happens And it occurs because most often people use results of extremely precise and elaborate online tests as a basis of determining ones type Both visual and language arts moreI study graphic design now which I really enjoy What is interesting about this field is that the ability to generate ideas and solve problems is much more important than possession of a specificAlexxxandra DeviantArt am always ready to discipline to intimidate to be precise my siblings offenderWorld domination Shooting people in the head Why Oh right INTJs always must be characterised only with these words I want to show so badly my reaction to this ISTP'"
            ]
          },
          "execution_count": 51,
          "metadata": {},
          "output_type": "execute_result"
        }
      ],
      "source": []
    },
    {
      "cell_type": "code",
      "execution_count": null,
      "id": "208c3a83-492e-4663-aafe-582f3bb8f3bc",
      "metadata": {
        "id": "208c3a83-492e-4663-aafe-582f3bb8f3bc",
        "outputId": "4bc901c1-09e5-4505-f511-fc2be86ec6dc"
      },
      "outputs": [
        {
          "data": {
            "text/plain": [
              "((8674,), (8674,))"
            ]
          },
          "execution_count": 52,
          "metadata": {},
          "output_type": "execute_result"
        }
      ],
      "source": [
        "x = mbti['posts']\n",
        "y = mbti['type']\n",
        "x.shape,y.shape"
      ]
    },
    {
      "cell_type": "code",
      "execution_count": null,
      "id": "c0e23295-1f59-4bdb-b80a-13b35d56d54f",
      "metadata": {
        "id": "c0e23295-1f59-4bdb-b80a-13b35d56d54f",
        "outputId": "e81764a1-6c59-4812-91f5-b671ad15c75d"
      },
      "outputs": [
        {
          "name": "stderr",
          "output_type": "stream",
          "text": [
            "[nltk_data] Downloading package punkt to\n",
            "[nltk_data]     C:\\Users\\HP\\AppData\\Roaming\\nltk_data...\n",
            "[nltk_data]   Unzipping tokenizers\\punkt.zip.\n"
          ]
        }
      ],
      "source": [
        "import nltk\n",
        "nltk.download('punkt')\n"
      ]
    },
    {
      "cell_type": "code",
      "execution_count": null,
      "id": "036d9210-b9b0-40d3-ae84-33ceb6b1e1d6",
      "metadata": {
        "id": "036d9210-b9b0-40d3-ae84-33ceb6b1e1d6",
        "outputId": "771718a7-906b-4c75-cc50-558b984f86c3"
      },
      "outputs": [
        {
          "data": {
            "text/plain": [
              "0       and intj moment sportscent not top ten play pr...\n",
              "1       im find the lack of me in these post veri alar...\n",
              "2       good one cours to which i say i know that my b...\n",
              "3       dear intp i enjoy our convers the other day es...\n",
              "4       your firedthat anoth silli misconcept that app...\n",
              "                              ...                        \n",
              "8669    just becaus i alway think of cat as fi dom for...\n",
              "8670    soif thi thread alreadi exist someplac els whi...\n",
              "8671    so mani question when i do these thing i would...\n",
              "8672    i am veri conflict right now when it come to w...\n",
              "8673    it ha been too long sinc i have been on person...\n",
              "Name: posts, Length: 8674, dtype: object"
            ]
          },
          "execution_count": 73,
          "metadata": {},
          "output_type": "execute_result"
        }
      ],
      "source": [
        "\n",
        "\n",
        "from nltk.stem import PorterStemmer\n",
        "from nltk.tokenize import word_tokenize\n",
        "def stemSentence(sentence):\n",
        "    stemmer_ps = PorterStemmer()\n",
        "\n",
        "    token_words=word_tokenize(sentence) #we need to tokenize the sentence or else stemming will return the entire sentence as is.\n",
        "    stem_sentence=[]\n",
        "    for word in token_words:\n",
        "        stem_sentence.append(stemmer_ps.stem(word))\n",
        "        stem_sentence.append(\" \") #adding a space so that we can join all the words at the end to form the sentence again.\n",
        "    return \"\".join(stem_sentence)\n",
        "\n",
        "# porter_stemmer = PorterStemmer()\n",
        "# text = mbit['posts']\n",
        "# words = word_tokenize(text)\n",
        "# # stemmed_words = [for x in mbit['posts'] : porter_stemmer.stem(word) for word in words]\n",
        "# # stemmed_words\n",
        "\n",
        "stemwords = mbit['posts'].apply(lambda x:stemSentence(x))\n",
        "stemwords"
      ]
    },
    {
      "cell_type": "code",
      "execution_count": null,
      "id": "56cf56d1-7810-4e98-be42-090c2b410d04",
      "metadata": {
        "id": "56cf56d1-7810-4e98-be42-090c2b410d04"
      },
      "outputs": [],
      "source": [
        "mbit['posts'] = stemwords"
      ]
    },
    {
      "cell_type": "code",
      "execution_count": null,
      "id": "b557216c-0c11-4451-9464-9e2dd6c59c0c",
      "metadata": {
        "id": "b557216c-0c11-4451-9464-9e2dd6c59c0c",
        "outputId": "f097285b-5927-4cba-9355-17cbdd8e051c"
      },
      "outputs": [
        {
          "data": {
            "text/plain": [
              "0       and intj moment sportscent not top ten play pr...\n",
              "1       im find the lack of me in these post veri alar...\n",
              "2       good one cours to which i say i know that my b...\n",
              "3       dear intp i enjoy our convers the other day es...\n",
              "4       your firedthat anoth silli misconcept that app...\n",
              "                              ...                        \n",
              "8669    just becaus i alway think of cat as fi dom for...\n",
              "8670    soif thi thread alreadi exist someplac els whi...\n",
              "8671    so mani question when i do these thing i would...\n",
              "8672    i am veri conflict right now when it come to w...\n",
              "8673    it ha been too long sinc i have been on person...\n",
              "Name: posts, Length: 8674, dtype: object"
            ]
          },
          "execution_count": 75,
          "metadata": {},
          "output_type": "execute_result"
        }
      ],
      "source": [
        "mbit['posts']"
      ]
    },
    {
      "cell_type": "code",
      "execution_count": null,
      "id": "111688ec-5960-4c4f-9b93-25df48680be6",
      "metadata": {
        "id": "111688ec-5960-4c4f-9b93-25df48680be6",
        "outputId": "59fb3b35-7b3c-4710-c97a-dd68aaccb1b5"
      },
      "outputs": [
        {
          "data": {
            "text/plain": [
              "0       and intj moment sportscent not top ten play pr...\n",
              "1       im find the lack of me in these post veri alar...\n",
              "2       good one cours to which i say i know that my b...\n",
              "3       dear intp i enjoy our convers the other day es...\n",
              "4       your firedthat anoth silli misconcept that app...\n",
              "                              ...                        \n",
              "8669    just becaus i alway think of cat a fi dom for ...\n",
              "8670    soif thi thread alreadi exist someplac el whic...\n",
              "8671    so mani question when i do these thing i would...\n",
              "8672    i am veri conflict right now when it come to w...\n",
              "8673    it ha been too long sinc i have been on person...\n",
              "Name: posts, Length: 8674, dtype: object"
            ]
          },
          "execution_count": 77,
          "metadata": {},
          "output_type": "execute_result"
        }
      ],
      "source": [
        "def lemmatizeSentence(sentence):\n",
        "    lemmatizer = WordNetLemmatizer()\n",
        "    token_words=word_tokenize(sentence)\n",
        "#we need to tokenize the sentence or else lemmatizing will return the entire sentence as is.\n",
        "    lemma_sentence=[]\n",
        "    for word in token_words:\n",
        "        lemma_sentence.append(lemmatizer.lemmatize(word))\n",
        "        lemma_sentence.append(\" \")\n",
        "    return \"\".join(lemma_sentence)\n",
        "\n",
        "lemmatize = mbit['posts'].apply(lambda x:lemmatizeSentence(x))\n",
        "lemmatize"
      ]
    },
    {
      "cell_type": "code",
      "execution_count": null,
      "id": "825e8033-6454-4495-8460-5e4db3982d3b",
      "metadata": {
        "id": "825e8033-6454-4495-8460-5e4db3982d3b",
        "outputId": "1e3e10fa-036f-483d-f702-ba865186003e"
      },
      "outputs": [
        {
          "data": {
            "text/plain": [
              "0       and intj moment sportscent not top ten play pr...\n",
              "1       im find the lack of me in these post veri alar...\n",
              "2       good one cours to which i say i know that my b...\n",
              "3       dear intp i enjoy our convers the other day es...\n",
              "4       your firedthat anoth silli misconcept that app...\n",
              "                              ...                        \n",
              "8669    just becaus i alway think of cat a fi dom for ...\n",
              "8670    soif thi thread alreadi exist someplac el whic...\n",
              "8671    so mani question when i do these thing i would...\n",
              "8672    i am veri conflict right now when it come to w...\n",
              "8673    it ha been too long sinc i have been on person...\n",
              "Name: posts, Length: 8674, dtype: object"
            ]
          },
          "execution_count": 78,
          "metadata": {},
          "output_type": "execute_result"
        }
      ],
      "source": [
        "mbit['posts'] = lemmatize\n",
        "mbit['posts']"
      ]
    },
    {
      "cell_type": "code",
      "execution_count": null,
      "id": "c14ddf01-10d2-463c-9dfa-a720460b1dd1",
      "metadata": {
        "id": "c14ddf01-10d2-463c-9dfa-a720460b1dd1",
        "outputId": "cb1464b2-bffe-4738-94f7-e5f47b882a03"
      },
      "outputs": [
        {
          "data": {
            "text/plain": [
              "array([[0, 0, 0, ..., 0, 0, 0],\n",
              "       [1, 0, 0, ..., 0, 0, 0],\n",
              "       [0, 2, 2, ..., 0, 0, 0],\n",
              "       [0, 0, 0, ..., 0, 0, 0],\n",
              "       [0, 0, 0, ..., 0, 0, 0]], dtype=int64)"
            ]
          },
          "execution_count": 80,
          "metadata": {},
          "output_type": "execute_result"
        }
      ],
      "source": [
        "x = mbit['posts']\n",
        "y = mbit['type']\n",
        "vect = CountVectorizer(ngram_range=(1,3), min_df=5, max_features=8000)\n",
        "x_vec = vect.fit_transform(x).toarray();x_vec[:5]"
      ]
    },
    {
      "cell_type": "code",
      "execution_count": null,
      "id": "3f8d5ccc-33af-446e-9ef3-a6c3fac9c927",
      "metadata": {
        "id": "3f8d5ccc-33af-446e-9ef3-a6c3fac9c927"
      },
      "outputs": [],
      "source": [
        "x_train, x_test, y_train, y_test = train_test_split(x_vec, y,\n",
        "                                                    random_state=0)"
      ]
    },
    {
      "cell_type": "code",
      "execution_count": null,
      "id": "aa336e20-a188-419e-bd9d-975073ec40c5",
      "metadata": {
        "id": "aa336e20-a188-419e-bd9d-975073ec40c5",
        "outputId": "38bc4b9b-bb2f-4ecd-c529-d81175fdc900"
      },
      "outputs": [
        {
          "data": {
            "text/plain": [
              "(0.7681783243658724, 0.338865836791148)"
            ]
          },
          "execution_count": 82,
          "metadata": {},
          "output_type": "execute_result"
        }
      ],
      "source": [
        "nb = GaussianNB()\n",
        "nb.fit(x_train,y_train)\n",
        "nb.score(x_train,y_train),nb.score(x_test,y_test)"
      ]
    },
    {
      "cell_type": "code",
      "execution_count": null,
      "id": "734dc6b3-78c2-4103-bd2e-4b23e31cc607",
      "metadata": {
        "id": "734dc6b3-78c2-4103-bd2e-4b23e31cc607",
        "outputId": "9a491081-6985-49c4-c582-b4446c7516d0"
      },
      "outputs": [
        {
          "data": {
            "text/plain": [
              "array(['ESTJ'], dtype='<U4')"
            ]
          },
          "execution_count": 84,
          "metadata": {},
          "output_type": "execute_result"
        }
      ],
      "source": [
        "sample =  \" that's my blessing and my curse.\"\n",
        "vec = vect.transform([sample]).toarray()\n",
        "nb.predict(vec)"
      ]
    }
  ],
  "metadata": {
    "kernelspec": {
      "display_name": "Python 3 (ipykernel)",
      "language": "python",
      "name": "python3"
    },
    "language_info": {
      "codemirror_mode": {
        "name": "ipython",
        "version": 3
      },
      "file_extension": ".py",
      "mimetype": "text/x-python",
      "name": "python",
      "nbconvert_exporter": "python",
      "pygments_lexer": "ipython3",
      "version": "3.11.7"
    },
    "colab": {
      "provenance": [],
      "include_colab_link": true
    }
  },
  "nbformat": 4,
  "nbformat_minor": 5
}