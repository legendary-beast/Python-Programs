{
  "cells": [
    {
      "cell_type": "markdown",
      "metadata": {
        "id": "view-in-github",
        "colab_type": "text"
      },
      "source": [
        "<a href=\"https://colab.research.google.com/github/legendary-beast/Python-Programs/blob/main/Fermi_Pico_Bagel_method_1.ipynb\" target=\"_parent\"><img src=\"https://colab.research.google.com/assets/colab-badge.svg\" alt=\"Open In Colab\"/></a>"
      ]
    },
    {
      "cell_type": "markdown",
      "id": "0b55c9a8",
      "metadata": {
        "id": "0b55c9a8"
      },
      "source": [
        "## Fermi Pico Bagel\n",
        "Try playing game and understand the rules : https://communicrossings.com/html/js/pfb.htm\n",
        "\n",
        "## Step 1\n",
        "Store any number in string format(number to be guessed by player) in a variable `original_number`.\n",
        "\n",
        "For Example: original_number = '123'\n"
      ]
    },
    {
      "cell_type": "code",
      "execution_count": null,
      "id": "57a0a2d0",
      "metadata": {
        "id": "57a0a2d0"
      },
      "outputs": [],
      "source": [
        "# ## Your code goes here\n",
        "# import random\n",
        "\n",
        "# x  = random\n",
        "\n",
        "original_number = \"134\""
      ]
    },
    {
      "cell_type": "markdown",
      "id": "fd43340c",
      "metadata": {
        "id": "fd43340c"
      },
      "source": [
        "## Step 2\n",
        "Take a number as user input and save it in a variable `guess_number`.(Make sure that the datatype of guess_number is same as of original number i.e- `str`)"
      ]
    },
    {
      "cell_type": "code",
      "execution_count": null,
      "id": "2e0075a7",
      "metadata": {
        "id": "2e0075a7"
      },
      "outputs": [],
      "source": [
        "## Your code goes here\n",
        "guess_number = \"123\"\n"
      ]
    },
    {
      "cell_type": "markdown",
      "id": "22318243",
      "metadata": {
        "id": "22318243"
      },
      "source": [
        "## Step 3\n",
        "Check if total number of digits in `original_number` and `guess_number` is not same(Use `len()` function) then ask user for valid input.(First use `len()` to get total digits in `original_number` and `guess_number`.)"
      ]
    },
    {
      "cell_type": "code",
      "execution_count": null,
      "id": "84b18f1c-14dc-4780-b3bf-0bfa90484544",
      "metadata": {
        "id": "84b18f1c-14dc-4780-b3bf-0bfa90484544",
        "outputId": "fd895427-2620-4496-9f5c-87706020af05"
      },
      "outputs": [
        {
          "data": {
            "text/plain": [
              "7"
            ]
          },
          "execution_count": 121,
          "metadata": {},
          "output_type": "execute_result"
        }
      ],
      "source": [
        "len('saknfal')"
      ]
    },
    {
      "cell_type": "code",
      "execution_count": null,
      "id": "258e2971",
      "metadata": {
        "id": "258e2971",
        "outputId": "86f53fa6-ecb3-4d27-dc41-073606c535fa"
      },
      "outputs": [
        {
          "name": "stdout",
          "output_type": "stream",
          "text": [
            "enter valid digits\n"
          ]
        }
      ],
      "source": [
        "## Your code goes here\n",
        "if len(original_number) != len(guess_number):\n",
        "    print(\"enter valid digits\")"
      ]
    },
    {
      "cell_type": "markdown",
      "id": "0c064bda",
      "metadata": {
        "id": "0c064bda"
      },
      "source": [
        "## Step 4\n",
        "Using `set()`, check if the digits are repeated in a `guess_number` .\n",
        "Note that datatype `set` allows unique values only.\n",
        "\n",
        "For ex. if `user_input`is 122, then it should print the string 'Duplicate number'  as digit 2 is repeated."
      ]
    },
    {
      "cell_type": "code",
      "execution_count": null,
      "id": "7b5ef10d",
      "metadata": {
        "id": "7b5ef10d"
      },
      "outputs": [],
      "source": [
        "## Your code goes here\n",
        "\n",
        "if(len(set(guess_number)) < len(guess_number)):\n",
        "    print(\"duplicate number\")\n"
      ]
    },
    {
      "cell_type": "markdown",
      "id": "0514b8d9",
      "metadata": {
        "id": "0514b8d9"
      },
      "source": [
        "## Step 5\n",
        "Check winning condition i.e. if both `guess_number` and `original_number` are same, then print 'Fermi' as many number of times as number of digits in a number and print ' You win !! '.\n"
      ]
    },
    {
      "cell_type": "code",
      "execution_count": null,
      "id": "ab9379a5",
      "metadata": {
        "id": "ab9379a5"
      },
      "outputs": [],
      "source": [
        "## Your code goes here\n",
        "if(original_number == guess_number ):\n",
        "    for i in range(len(guess_number)):\n",
        "        print(\"Fermi\")\n",
        "    print(\"You Win !! \")\n",
        "    break"
      ]
    },
    {
      "cell_type": "markdown",
      "id": "96eca378",
      "metadata": {
        "id": "96eca378"
      },
      "source": [
        "## Step 6\n",
        "Create empty list called `output` where we will store the output in the form of list.\n",
        "\n",
        "For example: output = [ ' Fermi ', ' Pico ' ,' Pico ' ] ."
      ]
    },
    {
      "cell_type": "code",
      "execution_count": null,
      "id": "c047a839",
      "metadata": {
        "id": "c047a839"
      },
      "outputs": [],
      "source": [
        "## Your code goes here\n",
        "# output = []"
      ]
    },
    {
      "cell_type": "markdown",
      "id": "4949309d",
      "metadata": {
        "id": "4949309d"
      },
      "source": [
        "## Step 7\n",
        "Check if any digit and it's position in both `guess_number` and `original_number` are same then append 'Fermi' to `output` list or if only digit matches and not the position then append 'Pico' to `output`.\n"
      ]
    },
    {
      "cell_type": "code",
      "execution_count": null,
      "id": "682647b3-cc9a-4f16-a4f7-7b9254f9b0bd",
      "metadata": {
        "id": "682647b3-cc9a-4f16-a4f7-7b9254f9b0bd",
        "outputId": "8337d2f5-f1e7-405d-cf18-acf3ebb3aa42"
      },
      "outputs": [
        {
          "data": {
            "text/plain": [
              "['fermi', 'pico']"
            ]
          },
          "execution_count": 124,
          "metadata": {},
          "output_type": "execute_result"
        }
      ],
      "source": [
        "l=[]\n",
        "for i,o in enumerate(original_number):\n",
        "    if o == guess_number[i]:\n",
        "        output.append('fermi')\n",
        "\n",
        "    elif o in guess_number:\n",
        "        output.append('pico')\n",
        "l"
      ]
    },
    {
      "cell_type": "code",
      "execution_count": null,
      "id": "7dbe3800",
      "metadata": {
        "id": "7dbe3800",
        "outputId": "3e04a067-65d1-453e-f7c9-30431fc20d04"
      },
      "outputs": [
        {
          "data": {
            "text/plain": [
              "['Fermi', 'Pico']"
            ]
          },
          "execution_count": 98,
          "metadata": {},
          "output_type": "execute_result"
        }
      ],
      "source": [
        "## Your code goes here\n",
        "# for i in original_number:\n",
        "#     for j in guess_number:\n",
        "#         if (i == j):\n",
        "#             output.append(\"Fermi\")\n",
        "# output\n",
        "output = []\n",
        "for i in range (0,len(original_number)):\n",
        "    for j in range (0,len(guess_number)):\n",
        "        if (i==j and original_number[i] == guess_number[j]):\n",
        "            output.append(\"Fermi\")\n",
        "        elif (original_number[i] == guess_number[j]):\n",
        "            output.append(\"Pico\")\n",
        "\n",
        "output"
      ]
    },
    {
      "cell_type": "markdown",
      "id": "59e62457",
      "metadata": {
        "id": "59e62457"
      },
      "source": [
        "## Step 8\n",
        "Define a variable called `output_string` which has all values from a list `output` with each value separated by space. (Use 'for' loop to get all the values from a list `output`.)"
      ]
    },
    {
      "cell_type": "code",
      "execution_count": null,
      "id": "d15c8f60",
      "metadata": {
        "id": "d15c8f60",
        "outputId": "d0714f94-8b33-43fc-e092-cbdc393bc9ba"
      },
      "outputs": [
        {
          "data": {
            "text/plain": [
              "' Fermi Pico '"
            ]
          },
          "execution_count": 104,
          "metadata": {},
          "output_type": "execute_result"
        }
      ],
      "source": [
        "## Your code goes here\n",
        "output_string = \" \"\n",
        "for i in range (0,len(output)):\n",
        "    output_string = output_string + output[i] + \" \"\n",
        "output_string"
      ]
    },
    {
      "cell_type": "markdown",
      "id": "f3f50bef",
      "metadata": {
        "id": "f3f50bef"
      },
      "source": [
        "## Step 9\n",
        "Check if neither any digit nor any position matches i.e. if length of `output` list is zero then print `Bagel`.\n",
        "\n",
        "Otherwise print `output_string`."
      ]
    },
    {
      "cell_type": "code",
      "execution_count": null,
      "id": "3c568356",
      "metadata": {
        "id": "3c568356",
        "outputId": "79642b45-be1e-4ad5-c50b-ad5b8b514600"
      },
      "outputs": [
        {
          "name": "stdout",
          "output_type": "stream",
          "text": [
            " Fermi Pico \n"
          ]
        }
      ],
      "source": [
        "if(len(output) == 0 ):\n",
        "    print(\"beagle\")\n",
        "else:\n",
        "    print(output_string)"
      ]
    },
    {
      "cell_type": "markdown",
      "id": "9d4a684d",
      "metadata": {
        "id": "9d4a684d"
      },
      "source": [
        "## Step 10\n",
        "\n",
        "## Complete game\n",
        "Here use continue and break statements at appropriate places."
      ]
    },
    {
      "cell_type": "code",
      "execution_count": null,
      "id": "79843cdf",
      "metadata": {
        "id": "79843cdf",
        "outputId": "c4df67c2-d4a2-42aa-a1c9-c67b13b55070"
      },
      "outputs": [
        {
          "name": "stdin",
          "output_type": "stream",
          "text": [
            " 369\n"
          ]
        },
        {
          "name": "stdout",
          "output_type": "stream",
          "text": [
            " pico \n"
          ]
        },
        {
          "name": "stdin",
          "output_type": "stream",
          "text": [
            " 135\n"
          ]
        },
        {
          "name": "stdout",
          "output_type": "stream",
          "text": [
            " fermi fermi \n"
          ]
        },
        {
          "name": "stdin",
          "output_type": "stream",
          "text": [
            " 287\n"
          ]
        },
        {
          "name": "stdout",
          "output_type": "stream",
          "text": [
            "bagle\n"
          ]
        },
        {
          "name": "stdin",
          "output_type": "stream",
          "text": [
            " 1235\n"
          ]
        },
        {
          "name": "stdout",
          "output_type": "stream",
          "text": [
            "enter valid digits\n"
          ]
        },
        {
          "name": "stdin",
          "output_type": "stream",
          "text": [
            " 134\n"
          ]
        },
        {
          "name": "stdout",
          "output_type": "stream",
          "text": [
            "Fermi Fermi Fermi You Win !! \n"
          ]
        }
      ],
      "source": [
        "## step 1\n",
        "original_number = \"134\"\n",
        "\n",
        "## create infinite while loop\n",
        "while True:\n",
        "    output_string = \" \"\n",
        "\n",
        "## step 2 and step 6\n",
        "    guess_number = input()\n",
        "\n",
        "    output = []\n",
        "\n",
        "## step 3 and step 4 (use continue statement)\n",
        "    if(len(original_number) != len(guess_number) ):\n",
        "        print(\"enter valid digits\")\n",
        "        continue\n",
        "    if(len(set(guess_number)) < len(guess_number)):\n",
        "        print(\"duplicate number\")\n",
        "        continue\n",
        "\n",
        "## step 5 (use break statement for winning condition)\n",
        "    if(original_number == guess_number ):\n",
        "        new_str = \"\"\n",
        "        for i in range(len(guess_number)):\n",
        "             new_str = new_str + \"Fermi\" + \" \"\n",
        "        print(new_str + \"You Win !! \")\n",
        "        break\n",
        "\n",
        "## step 7\n",
        "    for i,o in enumerate(original_number):\n",
        "        if o == guess_number[i]:\n",
        "            output.append('fermi')\n",
        "        elif o in guess_number:\n",
        "            output.append('pico')\n",
        "\n",
        "## step 8\n",
        "\n",
        "    for i in range (0,len(output)):\n",
        "        output_string = output_string + output[i] + \" \"\n",
        "    output_string\n",
        "\n",
        "## step 9134\n",
        "    if(len(output) == 0 ):\n",
        "        print(\"bagle\")\n",
        "    else:\n",
        "        print(output_string)"
      ]
    },
    {
      "cell_type": "code",
      "execution_count": null,
      "id": "90ddc3a9-f389-48cb-b2b6-608a13a8e9ab",
      "metadata": {
        "id": "90ddc3a9-f389-48cb-b2b6-608a13a8e9ab"
      },
      "outputs": [],
      "source": []
    },
    {
      "cell_type": "code",
      "execution_count": null,
      "id": "53105265-f91c-4bfb-a5a5-4b7c873d5933",
      "metadata": {
        "id": "53105265-f91c-4bfb-a5a5-4b7c873d5933"
      },
      "outputs": [],
      "source": []
    }
  ],
  "metadata": {
    "kernelspec": {
      "display_name": "Python 3 (ipykernel)",
      "language": "python",
      "name": "python3"
    },
    "language_info": {
      "codemirror_mode": {
        "name": "ipython",
        "version": 3
      },
      "file_extension": ".py",
      "mimetype": "text/x-python",
      "name": "python",
      "nbconvert_exporter": "python",
      "pygments_lexer": "ipython3",
      "version": "3.11.7"
    },
    "colab": {
      "provenance": [],
      "include_colab_link": true
    }
  },
  "nbformat": 4,
  "nbformat_minor": 5
}