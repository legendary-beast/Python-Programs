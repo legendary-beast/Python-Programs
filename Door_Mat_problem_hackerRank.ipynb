{
  "nbformat": 4,
  "nbformat_minor": 0,
  "metadata": {
    "colab": {
      "provenance": [],
      "authorship_tag": "ABX9TyMPS7Bk0kTQwYP4Dd4w6CzF",
      "include_colab_link": true
    },
    "kernelspec": {
      "name": "python3",
      "display_name": "Python 3"
    },
    "language_info": {
      "name": "python"
    }
  },
  "cells": [
    {
      "cell_type": "markdown",
      "metadata": {
        "id": "view-in-github",
        "colab_type": "text"
      },
      "source": [
        "<a href=\"https://colab.research.google.com/github/legendary-beast/Python-Programs/blob/main/Door_Mat_problem_hackerRank.ipynb\" target=\"_parent\"><img src=\"https://colab.research.google.com/assets/colab-badge.svg\" alt=\"Open In Colab\"/></a>"
      ]
    },
    {
      "cell_type": "code",
      "execution_count": 1,
      "metadata": {
        "colab": {
          "base_uri": "https://localhost:8080/"
        },
        "id": "2pQ19WAbkMpi",
        "outputId": "6417335e-8e9b-42f0-aac5-3dc13219601c"
      },
      "outputs": [
        {
          "output_type": "stream",
          "name": "stdout",
          "text": [
            "7 21\n",
            "7 21\n",
            "---------.|.---------\n",
            "------.|..|..|.------\n",
            "---.|..|..|..|..|.---\n",
            "-------Welcome-------\n",
            "---.|..|..|..|..|.---\n",
            "------.|..|..|.------\n",
            "---------.|.---------\n"
          ]
        }
      ],
      "source": [
        "R,C = map(int,input().split(' '))\n",
        "print (R,C)\n",
        "\n",
        "for i in range (1,R,2):\n",
        "    print((\".|.\"*i).center(C,'-'))\n",
        "\n",
        "print(\"Welcome\".center(C,'-'))\n",
        "\n",
        "for i in range (R-2,-1,-2):\n",
        "    print((\".|.\"*i).center(C,'-'))"
      ]
    }
  ]
}